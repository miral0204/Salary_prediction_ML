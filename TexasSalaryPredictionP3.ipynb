{
 "cells": [
  {
   "cell_type": "markdown",
   "id": "12c27e7d-8ea9-4cf8-8075-d74c99892b31",
   "metadata": {},
   "source": [
    "-**TEXAS SALARY PREDICTION**\n",
    "-\n",
    "->Here we have the dataset of texas state offices and their employement details such as work weeks and salary. Our task is to develop a \n",
    "predictive model which gives insight and payroll information of the state of Texas.\n",
    "\n",
    "->The dataset provided needs to be cleaned & processed first before training the Machine learning models.We processed the null values, dealt with categorical values and continuous values & performed **Exploratory Data Analysis (EDA)**. \n",
    "\n",
    "-> EDA gives us a vast insight on how the data is distributed, whats the relevance of one field with another and the findings of the data and its values.\n",
    "\n",
    "->Many columns in the data are not normally distributed and have many **outliers**, our task was also to compute these outliers which can affect the model performance.\n",
    "\n",
    "->Different departments and Status of the role have a **disparity in annual salary**. We have also analyzed that according to different class of employees.\n",
    "\n",
    "->Furthermore, We trained various ML models and fit them in our data to predict.Out of the 5, XGbregressor and RandomForest gave the best r2_score and accuracy. (**0.94**)\n",
    "\n",
    "->To improve the model performance, **Hyperparameter tuning** is done with different parameters to define the best parameter for XGBoost and Randomforest. \n"
   ]
  },
  {
   "cell_type": "code",
   "execution_count": 1,
   "id": "946e33e7-ea25-429d-9fc1-4765f6f6e4ae",
   "metadata": {},
   "outputs": [],
   "source": [
    "#importing necessary libraries\n",
    "import pandas as pd\n",
    "import matplotlib.pyplot as plt\n",
    "import numpy as np"
   ]
  },
  {
   "cell_type": "markdown",
   "id": "be6b4b80-54dc-4fcd-91dc-d7b90ae2b1b1",
   "metadata": {},
   "source": []
  },
  {
   "cell_type": "code",
   "execution_count": 2,
   "id": "f20d9e3f-f5ed-4eba-8274-2c5856da0112",
   "metadata": {},
   "outputs": [
    {
     "name": "stderr",
     "output_type": "stream",
     "text": [
      "C:\\Users\\miral.MIRAL-K\\AppData\\Local\\Temp\\ipykernel_24692\\1574960735.py:2: DtypeWarning: Columns (16,18,20) have mixed types. Specify dtype option on import or set low_memory=False.\n",
      "  data=pd.read_csv('salary_csv.csv')\n"
     ]
    },
    {
     "data": {
      "text/html": [
       "<div>\n",
       "<style scoped>\n",
       "    .dataframe tbody tr th:only-of-type {\n",
       "        vertical-align: middle;\n",
       "    }\n",
       "\n",
       "    .dataframe tbody tr th {\n",
       "        vertical-align: top;\n",
       "    }\n",
       "\n",
       "    .dataframe thead th {\n",
       "        text-align: right;\n",
       "    }\n",
       "</style>\n",
       "<table border=\"1\" class=\"dataframe\">\n",
       "  <thead>\n",
       "    <tr style=\"text-align: right;\">\n",
       "      <th></th>\n",
       "      <th>AGENCY</th>\n",
       "      <th>AGENCY NAME</th>\n",
       "      <th>LAST NAME</th>\n",
       "      <th>FIRST NAME</th>\n",
       "      <th>MI</th>\n",
       "      <th>CLASS CODE</th>\n",
       "      <th>CLASS TITLE</th>\n",
       "      <th>ETHNICITY</th>\n",
       "      <th>GENDER</th>\n",
       "      <th>STATUS</th>\n",
       "      <th>...</th>\n",
       "      <th>HRLY RATE</th>\n",
       "      <th>HRS PER WK</th>\n",
       "      <th>MONTHLY</th>\n",
       "      <th>ANNUAL</th>\n",
       "      <th>STATE NUMBER</th>\n",
       "      <th>duplicated</th>\n",
       "      <th>multiple_full_time_jobs</th>\n",
       "      <th>combined_multiple_jobs</th>\n",
       "      <th>summed_annual_salary</th>\n",
       "      <th>hide_from_search</th>\n",
       "    </tr>\n",
       "  </thead>\n",
       "  <tbody>\n",
       "    <tr>\n",
       "      <th>0</th>\n",
       "      <td>241</td>\n",
       "      <td>COMPTROLLER OF PUBLIC ACCOUNTS, JUDICIARY SECT...</td>\n",
       "      <td>RUCKER</td>\n",
       "      <td>MORTON</td>\n",
       "      <td>V</td>\n",
       "      <td>JD25</td>\n",
       "      <td>JUDGE, RETIRED                                ...</td>\n",
       "      <td>WHITE</td>\n",
       "      <td>MALE</td>\n",
       "      <td>URP - UNCLASSIFIED REGULAR PART-TIME</td>\n",
       "      <td>...</td>\n",
       "      <td>75.96150</td>\n",
       "      <td>29.0</td>\n",
       "      <td>9545.82</td>\n",
       "      <td>114549.84</td>\n",
       "      <td>127717</td>\n",
       "      <td>True</td>\n",
       "      <td>NaN</td>\n",
       "      <td>NaN</td>\n",
       "      <td>131407.08</td>\n",
       "      <td>NaN</td>\n",
       "    </tr>\n",
       "    <tr>\n",
       "      <th>1</th>\n",
       "      <td>212</td>\n",
       "      <td>OFFICE OF COURT ADMINISTRATION                ...</td>\n",
       "      <td>RUCKER</td>\n",
       "      <td>MORTON</td>\n",
       "      <td>V</td>\n",
       "      <td>3524</td>\n",
       "      <td>GENERAL COUNSEL IV                            ...</td>\n",
       "      <td>WHITE</td>\n",
       "      <td>MALE</td>\n",
       "      <td>CTP - CLASSIFIED TEMPORARY PART-TIME</td>\n",
       "      <td>...</td>\n",
       "      <td>81.04454</td>\n",
       "      <td>4.0</td>\n",
       "      <td>1404.77</td>\n",
       "      <td>16857.24</td>\n",
       "      <td>127717</td>\n",
       "      <td>True</td>\n",
       "      <td>NaN</td>\n",
       "      <td>NaN</td>\n",
       "      <td>NaN</td>\n",
       "      <td>True</td>\n",
       "    </tr>\n",
       "    <tr>\n",
       "      <th>2</th>\n",
       "      <td>241</td>\n",
       "      <td>COMPTROLLER OF PUBLIC ACCOUNTS, JUDICIARY SECT...</td>\n",
       "      <td>SPECIA JR</td>\n",
       "      <td>JOHN</td>\n",
       "      <td>J</td>\n",
       "      <td>JD25</td>\n",
       "      <td>JUDGE, RETIRED                                ...</td>\n",
       "      <td>WHITE</td>\n",
       "      <td>MALE</td>\n",
       "      <td>URP - UNCLASSIFIED REGULAR PART-TIME</td>\n",
       "      <td>...</td>\n",
       "      <td>75.96150</td>\n",
       "      <td>29.0</td>\n",
       "      <td>9545.82</td>\n",
       "      <td>114549.84</td>\n",
       "      <td>59115</td>\n",
       "      <td>True</td>\n",
       "      <td>NaN</td>\n",
       "      <td>NaN</td>\n",
       "      <td>131407.08</td>\n",
       "      <td>NaN</td>\n",
       "    </tr>\n",
       "    <tr>\n",
       "      <th>3</th>\n",
       "      <td>212</td>\n",
       "      <td>OFFICE OF COURT ADMINISTRATION                ...</td>\n",
       "      <td>SPECIA JR</td>\n",
       "      <td>JOHN</td>\n",
       "      <td>J</td>\n",
       "      <td>3524</td>\n",
       "      <td>GENERAL COUNSEL IV                            ...</td>\n",
       "      <td>WHITE</td>\n",
       "      <td>MALE</td>\n",
       "      <td>CTP - CLASSIFIED TEMPORARY PART-TIME</td>\n",
       "      <td>...</td>\n",
       "      <td>81.04453</td>\n",
       "      <td>4.0</td>\n",
       "      <td>1404.77</td>\n",
       "      <td>16857.24</td>\n",
       "      <td>59115</td>\n",
       "      <td>True</td>\n",
       "      <td>NaN</td>\n",
       "      <td>NaN</td>\n",
       "      <td>NaN</td>\n",
       "      <td>True</td>\n",
       "    </tr>\n",
       "  </tbody>\n",
       "</table>\n",
       "<p>4 rows × 21 columns</p>\n",
       "</div>"
      ],
      "text/plain": [
       "   AGENCY                                        AGENCY NAME  \\\n",
       "0     241  COMPTROLLER OF PUBLIC ACCOUNTS, JUDICIARY SECT...   \n",
       "1     212  OFFICE OF COURT ADMINISTRATION                ...   \n",
       "2     241  COMPTROLLER OF PUBLIC ACCOUNTS, JUDICIARY SECT...   \n",
       "3     212  OFFICE OF COURT ADMINISTRATION                ...   \n",
       "\n",
       "                        LAST NAME                      FIRST NAME MI  \\\n",
       "0  RUCKER                          MORTON                          V   \n",
       "1  RUCKER                          MORTON                          V   \n",
       "2  SPECIA JR                       JOHN                            J   \n",
       "3  SPECIA JR                       JOHN                            J   \n",
       "\n",
       "  CLASS CODE                                        CLASS TITLE  \\\n",
       "0   JD25      JUDGE, RETIRED                                ...   \n",
       "1   3524      GENERAL COUNSEL IV                            ...   \n",
       "2   JD25      JUDGE, RETIRED                                ...   \n",
       "3   3524      GENERAL COUNSEL IV                            ...   \n",
       "\n",
       "         ETHNICITY           GENDER                                    STATUS  \\\n",
       "0  WHITE            MALE             URP - UNCLASSIFIED REGULAR PART-TIME       \n",
       "1  WHITE            MALE             CTP - CLASSIFIED TEMPORARY PART-TIME       \n",
       "2  WHITE            MALE             URP - UNCLASSIFIED REGULAR PART-TIME       \n",
       "3  WHITE            MALE             CTP - CLASSIFIED TEMPORARY PART-TIME       \n",
       "\n",
       "   ... HRLY RATE  HRS PER WK  MONTHLY     ANNUAL  STATE NUMBER  duplicated  \\\n",
       "0  ...  75.96150        29.0  9545.82  114549.84        127717        True   \n",
       "1  ...  81.04454         4.0  1404.77   16857.24        127717        True   \n",
       "2  ...  75.96150        29.0  9545.82  114549.84         59115        True   \n",
       "3  ...  81.04453         4.0  1404.77   16857.24         59115        True   \n",
       "\n",
       "  multiple_full_time_jobs  combined_multiple_jobs summed_annual_salary  \\\n",
       "0                     NaN                     NaN            131407.08   \n",
       "1                     NaN                     NaN                  NaN   \n",
       "2                     NaN                     NaN            131407.08   \n",
       "3                     NaN                     NaN                  NaN   \n",
       "\n",
       "   hide_from_search  \n",
       "0               NaN  \n",
       "1              True  \n",
       "2               NaN  \n",
       "3              True  \n",
       "\n",
       "[4 rows x 21 columns]"
      ]
     },
     "execution_count": 2,
     "metadata": {},
     "output_type": "execute_result"
    }
   ],
   "source": [
    "#Reading the dataset\n",
    "data=pd.read_csv('salary_csv.csv')\n",
    "data.head(4)"
   ]
  },
  {
   "cell_type": "markdown",
   "id": "760dfab8-6b34-4932-aa1e-23d75004ef3a",
   "metadata": {},
   "source": [
    "### BASIC CHECKS ###"
   ]
  },
  {
   "cell_type": "code",
   "execution_count": 3,
   "id": "180b0107-d95a-4452-8170-1da73d6e3e8c",
   "metadata": {},
   "outputs": [
    {
     "name": "stdout",
     "output_type": "stream",
     "text": [
      "<class 'pandas.core.frame.DataFrame'>\n",
      "RangeIndex: 149481 entries, 0 to 149480\n",
      "Data columns (total 21 columns):\n",
      " #   Column                   Non-Null Count   Dtype  \n",
      "---  ------                   --------------   -----  \n",
      " 0   AGENCY                   149481 non-null  int64  \n",
      " 1   AGENCY NAME              149481 non-null  object \n",
      " 2   LAST NAME                149481 non-null  object \n",
      " 3   FIRST NAME               149481 non-null  object \n",
      " 4   MI                       149481 non-null  object \n",
      " 5   CLASS CODE               149481 non-null  object \n",
      " 6   CLASS TITLE              149481 non-null  object \n",
      " 7   ETHNICITY                149481 non-null  object \n",
      " 8   GENDER                   149481 non-null  object \n",
      " 9   STATUS                   149481 non-null  object \n",
      " 10  EMPLOY DATE              149481 non-null  object \n",
      " 11  HRLY RATE                149481 non-null  float64\n",
      " 12  HRS PER WK               149481 non-null  float64\n",
      " 13  MONTHLY                  149481 non-null  float64\n",
      " 14  ANNUAL                   149481 non-null  float64\n",
      " 15  STATE NUMBER             149481 non-null  int64  \n",
      " 16  duplicated               143 non-null     object \n",
      " 17  multiple_full_time_jobs  14 non-null      float64\n",
      " 18  combined_multiple_jobs   97 non-null      object \n",
      " 19  summed_annual_salary     16 non-null      float64\n",
      " 20  hide_from_search         16 non-null      object \n",
      "dtypes: float64(6), int64(2), object(13)\n",
      "memory usage: 23.9+ MB\n"
     ]
    }
   ],
   "source": [
    "data.info()"
   ]
  },
  {
   "cell_type": "markdown",
   "id": "f69415a5-e686-4474-b82a-9dff30adf4b5",
   "metadata": {},
   "source": [
    "#### Here we have a few columns in which the datatype is varying which needs to be solved ###"
   ]
  },
  {
   "cell_type": "code",
   "execution_count": 4,
   "id": "539a4432-7a48-4f53-8a83-a3386e411b69",
   "metadata": {},
   "outputs": [
    {
     "data": {
      "text/html": [
       "<div>\n",
       "<style scoped>\n",
       "    .dataframe tbody tr th:only-of-type {\n",
       "        vertical-align: middle;\n",
       "    }\n",
       "\n",
       "    .dataframe tbody tr th {\n",
       "        vertical-align: top;\n",
       "    }\n",
       "\n",
       "    .dataframe thead th {\n",
       "        text-align: right;\n",
       "    }\n",
       "</style>\n",
       "<table border=\"1\" class=\"dataframe\">\n",
       "  <thead>\n",
       "    <tr style=\"text-align: right;\">\n",
       "      <th></th>\n",
       "      <th>AGENCY</th>\n",
       "      <th>HRLY RATE</th>\n",
       "      <th>HRS PER WK</th>\n",
       "      <th>MONTHLY</th>\n",
       "      <th>ANNUAL</th>\n",
       "      <th>STATE NUMBER</th>\n",
       "      <th>multiple_full_time_jobs</th>\n",
       "      <th>summed_annual_salary</th>\n",
       "    </tr>\n",
       "  </thead>\n",
       "  <tbody>\n",
       "    <tr>\n",
       "      <th>count</th>\n",
       "      <td>149481.000000</td>\n",
       "      <td>149481.000000</td>\n",
       "      <td>149481.000000</td>\n",
       "      <td>149481.000000</td>\n",
       "      <td>149481.000000</td>\n",
       "      <td>1.494810e+05</td>\n",
       "      <td>14.0</td>\n",
       "      <td>16.000000</td>\n",
       "    </tr>\n",
       "    <tr>\n",
       "      <th>mean</th>\n",
       "      <td>545.736288</td>\n",
       "      <td>0.346488</td>\n",
       "      <td>39.714918</td>\n",
       "      <td>4226.184248</td>\n",
       "      <td>50714.210973</td>\n",
       "      <td>5.651930e+05</td>\n",
       "      <td>1.0</td>\n",
       "      <td>74303.955000</td>\n",
       "    </tr>\n",
       "    <tr>\n",
       "      <th>std</th>\n",
       "      <td>139.057691</td>\n",
       "      <td>4.211485</td>\n",
       "      <td>2.323855</td>\n",
       "      <td>2093.111691</td>\n",
       "      <td>25117.340292</td>\n",
       "      <td>4.786212e+05</td>\n",
       "      <td>0.0</td>\n",
       "      <td>51925.944282</td>\n",
       "    </tr>\n",
       "    <tr>\n",
       "      <th>min</th>\n",
       "      <td>101.000000</td>\n",
       "      <td>0.000000</td>\n",
       "      <td>1.000000</td>\n",
       "      <td>50.000000</td>\n",
       "      <td>600.000000</td>\n",
       "      <td>1.000000e+00</td>\n",
       "      <td>1.0</td>\n",
       "      <td>18000.000000</td>\n",
       "    </tr>\n",
       "    <tr>\n",
       "      <th>25%</th>\n",
       "      <td>529.000000</td>\n",
       "      <td>0.000000</td>\n",
       "      <td>40.000000</td>\n",
       "      <td>3019.840000</td>\n",
       "      <td>36238.080000</td>\n",
       "      <td>1.133340e+05</td>\n",
       "      <td>1.0</td>\n",
       "      <td>32962.500000</td>\n",
       "    </tr>\n",
       "    <tr>\n",
       "      <th>50%</th>\n",
       "      <td>530.000000</td>\n",
       "      <td>0.000000</td>\n",
       "      <td>40.000000</td>\n",
       "      <td>3720.170000</td>\n",
       "      <td>44642.040000</td>\n",
       "      <td>3.463730e+05</td>\n",
       "      <td>1.0</td>\n",
       "      <td>48063.300000</td>\n",
       "    </tr>\n",
       "    <tr>\n",
       "      <th>75%</th>\n",
       "      <td>696.000000</td>\n",
       "      <td>0.000000</td>\n",
       "      <td>40.000000</td>\n",
       "      <td>4865.810000</td>\n",
       "      <td>58389.720000</td>\n",
       "      <td>1.100500e+06</td>\n",
       "      <td>1.0</td>\n",
       "      <td>123751.770000</td>\n",
       "    </tr>\n",
       "    <tr>\n",
       "      <th>max</th>\n",
       "      <td>930.000000</td>\n",
       "      <td>117.788480</td>\n",
       "      <td>70.000000</td>\n",
       "      <td>46125.000000</td>\n",
       "      <td>553500.000000</td>\n",
       "      <td>1.271604e+06</td>\n",
       "      <td>1.0</td>\n",
       "      <td>171383.400000</td>\n",
       "    </tr>\n",
       "  </tbody>\n",
       "</table>\n",
       "</div>"
      ],
      "text/plain": [
       "              AGENCY      HRLY RATE     HRS PER WK        MONTHLY  \\\n",
       "count  149481.000000  149481.000000  149481.000000  149481.000000   \n",
       "mean      545.736288       0.346488      39.714918    4226.184248   \n",
       "std       139.057691       4.211485       2.323855    2093.111691   \n",
       "min       101.000000       0.000000       1.000000      50.000000   \n",
       "25%       529.000000       0.000000      40.000000    3019.840000   \n",
       "50%       530.000000       0.000000      40.000000    3720.170000   \n",
       "75%       696.000000       0.000000      40.000000    4865.810000   \n",
       "max       930.000000     117.788480      70.000000   46125.000000   \n",
       "\n",
       "              ANNUAL  STATE NUMBER  multiple_full_time_jobs  \\\n",
       "count  149481.000000  1.494810e+05                     14.0   \n",
       "mean    50714.210973  5.651930e+05                      1.0   \n",
       "std     25117.340292  4.786212e+05                      0.0   \n",
       "min       600.000000  1.000000e+00                      1.0   \n",
       "25%     36238.080000  1.133340e+05                      1.0   \n",
       "50%     44642.040000  3.463730e+05                      1.0   \n",
       "75%     58389.720000  1.100500e+06                      1.0   \n",
       "max    553500.000000  1.271604e+06                      1.0   \n",
       "\n",
       "       summed_annual_salary  \n",
       "count             16.000000  \n",
       "mean           74303.955000  \n",
       "std            51925.944282  \n",
       "min            18000.000000  \n",
       "25%            32962.500000  \n",
       "50%            48063.300000  \n",
       "75%           123751.770000  \n",
       "max           171383.400000  "
      ]
     },
     "execution_count": 4,
     "metadata": {},
     "output_type": "execute_result"
    }
   ],
   "source": [
    "data.describe()"
   ]
  },
  {
   "cell_type": "code",
   "execution_count": 5,
   "id": "882c3ee6-d27d-49b5-8da6-aea636f940a1",
   "metadata": {},
   "outputs": [
    {
     "data": {
      "text/plain": [
       "(149481, 21)"
      ]
     },
     "execution_count": 5,
     "metadata": {},
     "output_type": "execute_result"
    }
   ],
   "source": [
    "data.shape"
   ]
  },
  {
   "cell_type": "code",
   "execution_count": 6,
   "id": "09ce5e7b-65ae-48d8-9e9a-64feda35aa32",
   "metadata": {},
   "outputs": [
    {
     "data": {
      "text/plain": [
       "AGENCY                          0\n",
       "AGENCY NAME                     0\n",
       "LAST NAME                       0\n",
       "FIRST NAME                      0\n",
       "MI                              0\n",
       "CLASS CODE                      0\n",
       "CLASS TITLE                     0\n",
       "ETHNICITY                       0\n",
       "GENDER                          0\n",
       "STATUS                          0\n",
       "EMPLOY DATE                     0\n",
       "HRLY RATE                       0\n",
       "HRS PER WK                      0\n",
       "MONTHLY                         0\n",
       "ANNUAL                          0\n",
       "STATE NUMBER                    0\n",
       "duplicated                 149338\n",
       "multiple_full_time_jobs    149467\n",
       "combined_multiple_jobs     149384\n",
       "summed_annual_salary       149465\n",
       "hide_from_search           149465\n",
       "dtype: int64"
      ]
     },
     "execution_count": 6,
     "metadata": {},
     "output_type": "execute_result"
    }
   ],
   "source": [
    "data.isna().sum()"
   ]
  },
  {
   "cell_type": "markdown",
   "id": "b0a8e910-f7fc-44a3-9819-6e37b4470a72",
   "metadata": {},
   "source": [
    "#### Almost 90+ % of the data in last 5 columns is null, so we can drop them ####"
   ]
  },
  {
   "cell_type": "code",
   "execution_count": 7,
   "id": "f5631b73-0cfe-41f1-9185-be4467e04951",
   "metadata": {},
   "outputs": [],
   "source": [
    "data.drop(['duplicated','multiple_full_time_jobs','combined_multiple_jobs','hide_from_search','summed_annual_salary','STATE NUMBER'], axis=1,inplace=True)"
   ]
  },
  {
   "cell_type": "code",
   "execution_count": null,
   "id": "8b104b7e-85c6-4ac9-9846-47bdfdcbae7a",
   "metadata": {},
   "outputs": [],
   "source": []
  },
  {
   "cell_type": "code",
   "execution_count": 8,
   "id": "16287592-4a94-4042-a025-b4efb8985fcf",
   "metadata": {},
   "outputs": [
    {
     "data": {
      "text/html": [
       "<div>\n",
       "<style scoped>\n",
       "    .dataframe tbody tr th:only-of-type {\n",
       "        vertical-align: middle;\n",
       "    }\n",
       "\n",
       "    .dataframe tbody tr th {\n",
       "        vertical-align: top;\n",
       "    }\n",
       "\n",
       "    .dataframe thead th {\n",
       "        text-align: right;\n",
       "    }\n",
       "</style>\n",
       "<table border=\"1\" class=\"dataframe\">\n",
       "  <thead>\n",
       "    <tr style=\"text-align: right;\">\n",
       "      <th></th>\n",
       "      <th>AGENCY</th>\n",
       "      <th>AGENCY NAME</th>\n",
       "      <th>LAST NAME</th>\n",
       "      <th>FIRST NAME</th>\n",
       "      <th>MI</th>\n",
       "      <th>CLASS CODE</th>\n",
       "      <th>CLASS TITLE</th>\n",
       "      <th>ETHNICITY</th>\n",
       "      <th>GENDER</th>\n",
       "      <th>STATUS</th>\n",
       "      <th>EMPLOY DATE</th>\n",
       "      <th>HRLY RATE</th>\n",
       "      <th>HRS PER WK</th>\n",
       "      <th>MONTHLY</th>\n",
       "      <th>ANNUAL</th>\n",
       "    </tr>\n",
       "  </thead>\n",
       "  <tbody>\n",
       "    <tr>\n",
       "      <th>0</th>\n",
       "      <td>241</td>\n",
       "      <td>COMPTROLLER OF PUBLIC ACCOUNTS, JUDICIARY SECT...</td>\n",
       "      <td>RUCKER</td>\n",
       "      <td>MORTON</td>\n",
       "      <td>V</td>\n",
       "      <td>JD25</td>\n",
       "      <td>JUDGE, RETIRED                                ...</td>\n",
       "      <td>WHITE</td>\n",
       "      <td>MALE</td>\n",
       "      <td>URP - UNCLASSIFIED REGULAR PART-TIME</td>\n",
       "      <td>02/18/88</td>\n",
       "      <td>75.96150</td>\n",
       "      <td>29.0</td>\n",
       "      <td>9545.82</td>\n",
       "      <td>114549.84</td>\n",
       "    </tr>\n",
       "    <tr>\n",
       "      <th>1</th>\n",
       "      <td>212</td>\n",
       "      <td>OFFICE OF COURT ADMINISTRATION                ...</td>\n",
       "      <td>RUCKER</td>\n",
       "      <td>MORTON</td>\n",
       "      <td>V</td>\n",
       "      <td>3524</td>\n",
       "      <td>GENERAL COUNSEL IV                            ...</td>\n",
       "      <td>WHITE</td>\n",
       "      <td>MALE</td>\n",
       "      <td>CTP - CLASSIFIED TEMPORARY PART-TIME</td>\n",
       "      <td>02/01/15</td>\n",
       "      <td>81.04454</td>\n",
       "      <td>4.0</td>\n",
       "      <td>1404.77</td>\n",
       "      <td>16857.24</td>\n",
       "    </tr>\n",
       "    <tr>\n",
       "      <th>2</th>\n",
       "      <td>241</td>\n",
       "      <td>COMPTROLLER OF PUBLIC ACCOUNTS, JUDICIARY SECT...</td>\n",
       "      <td>SPECIA JR</td>\n",
       "      <td>JOHN</td>\n",
       "      <td>J</td>\n",
       "      <td>JD25</td>\n",
       "      <td>JUDGE, RETIRED                                ...</td>\n",
       "      <td>WHITE</td>\n",
       "      <td>MALE</td>\n",
       "      <td>URP - UNCLASSIFIED REGULAR PART-TIME</td>\n",
       "      <td>02/01/20</td>\n",
       "      <td>75.96150</td>\n",
       "      <td>29.0</td>\n",
       "      <td>9545.82</td>\n",
       "      <td>114549.84</td>\n",
       "    </tr>\n",
       "  </tbody>\n",
       "</table>\n",
       "</div>"
      ],
      "text/plain": [
       "   AGENCY                                        AGENCY NAME  \\\n",
       "0     241  COMPTROLLER OF PUBLIC ACCOUNTS, JUDICIARY SECT...   \n",
       "1     212  OFFICE OF COURT ADMINISTRATION                ...   \n",
       "2     241  COMPTROLLER OF PUBLIC ACCOUNTS, JUDICIARY SECT...   \n",
       "\n",
       "                        LAST NAME                      FIRST NAME MI  \\\n",
       "0  RUCKER                          MORTON                          V   \n",
       "1  RUCKER                          MORTON                          V   \n",
       "2  SPECIA JR                       JOHN                            J   \n",
       "\n",
       "  CLASS CODE                                        CLASS TITLE  \\\n",
       "0   JD25      JUDGE, RETIRED                                ...   \n",
       "1   3524      GENERAL COUNSEL IV                            ...   \n",
       "2   JD25      JUDGE, RETIRED                                ...   \n",
       "\n",
       "         ETHNICITY           GENDER                                    STATUS  \\\n",
       "0  WHITE            MALE             URP - UNCLASSIFIED REGULAR PART-TIME       \n",
       "1  WHITE            MALE             CTP - CLASSIFIED TEMPORARY PART-TIME       \n",
       "2  WHITE            MALE             URP - UNCLASSIFIED REGULAR PART-TIME       \n",
       "\n",
       "  EMPLOY DATE  HRLY RATE  HRS PER WK  MONTHLY     ANNUAL  \n",
       "0    02/18/88   75.96150        29.0  9545.82  114549.84  \n",
       "1    02/01/15   81.04454         4.0  1404.77   16857.24  \n",
       "2    02/01/20   75.96150        29.0  9545.82  114549.84  "
      ]
     },
     "execution_count": 8,
     "metadata": {},
     "output_type": "execute_result"
    }
   ],
   "source": [
    "data.head(3)"
   ]
  },
  {
   "cell_type": "markdown",
   "id": "86355090-70d8-4b2c-bca9-e412663ba2de",
   "metadata": {},
   "source": [
    "#### Checking for Outliers ####"
   ]
  },
  {
   "cell_type": "code",
   "execution_count": 9,
   "id": "ff4b0ef4-c712-44d2-8b9b-2880917b6014",
   "metadata": {},
   "outputs": [
    {
     "data": {
      "text/plain": [
       "<Axes: ylabel='ANNUAL'>"
      ]
     },
     "execution_count": 9,
     "metadata": {},
     "output_type": "execute_result"
    },
    {
     "data": {
      "image/png": "[encoded data removed]",
      "text/plain": [
       "<Figure size 1500x1800 with 4 Axes>"
      ]
     },
     "metadata": {},
     "output_type": "display_data"
    }
   ],
   "source": [
    "import seaborn as sns\n",
    "fig, ax = plt.subplots(2,2, figsize= (15,18))\n",
    "sns.boxplot(data['HRLY RATE'], ax= ax[0,0])\n",
    "sns.boxplot(data['HRS PER WK'], ax= ax[0,1])\n",
    "sns.boxplot(data['MONTHLY'], ax= ax[1,0])\n",
    "sns.boxplot(data['ANNUAL'], ax= ax[1,1])"
   ]
  },
  {
   "cell_type": "markdown",
   "id": "ced5df0f-9155-4953-82df-bd565ede18fb",
   "metadata": {},
   "source": [
    "#### We have quite a lot of outliers as seen in the boxplot, thus, processing the outliers by Inter Quartile Range method ####"
   ]
  },
  {
   "cell_type": "code",
   "execution_count": 10,
   "id": "839edc6c-2d8b-46e7-aa69-7e2ea6a790fc",
   "metadata": {},
   "outputs": [],
   "source": [
    "def find_boundaries(variable):\n",
    "    \n",
    "    q1 = data[variable].quantile(0.25)\n",
    "    q3 = data[variable].quantile(0.75)\n",
    "    iqr = q3 - q1\n",
    "    lower_range = q1 - 1.5 * iqr #to find the minimum value\n",
    "    upper_range = q3 + 1.5 * iqr#max value\n",
    "    return lower_range, upper_range"
   ]
  },
  {
   "cell_type": "code",
   "execution_count": 11,
   "id": "6a6b12d4-4cfc-43e9-a4cf-0b31cdc0c173",
   "metadata": {},
   "outputs": [
    {
     "name": "stdout",
     "output_type": "stream",
     "text": [
      "3010.6200000000026 91617.18\n"
     ]
    }
   ],
   "source": [
    "lower_ANNUAL, upper_ANNUAL = find_boundaries('ANNUAL')\n",
    "print(lower_ANNUAL, upper_ANNUAL)\n",
    "\n",
    "#capp the outlier / censoring the outlier\n",
    "data.ANNUAL = np.where( data.ANNUAL > upper_ANNUAL, upper_ANNUAL, data.ANNUAL )\n",
    "data.ANNUAL = np.where( data.ANNUAL < lower_ANNUAL, lower_ANNUAL, data.ANNUAL )"
   ]
  },
  {
   "cell_type": "code",
   "execution_count": 12,
   "id": "be62000e-ce50-41ec-93b6-808bf7492100",
   "metadata": {},
   "outputs": [
    {
     "name": "stdout",
     "output_type": "stream",
     "text": [
      "250.88499999999976 7634.765000000001\n"
     ]
    }
   ],
   "source": [
    "lower_MONTHLY, upper_MONTHLY = find_boundaries('MONTHLY')\n",
    "print(lower_MONTHLY, upper_MONTHLY)\n",
    "\n",
    "#capp the outlier / censoring the outlier\n",
    "data.MONTHLY = np.where( data.MONTHLY > upper_MONTHLY, upper_MONTHLY, data.MONTHLY )\n",
    "data.MONTHLY = np.where( data.MONTHLY < lower_MONTHLY, lower_MONTHLY, data.MONTHLY )"
   ]
  },
  {
   "cell_type": "markdown",
   "id": "56da5bb6-8c9b-43b3-840f-d291b1d7bc7c",
   "metadata": {},
   "source": [
    "#### Again plotting box plot, to check if outliers are processed ####"
   ]
  },
  {
   "cell_type": "code",
   "execution_count": 13,
   "id": "fdca9613-9059-40e0-9db3-2cbdfea7169a",
   "metadata": {},
   "outputs": [
    {
     "data": {
      "text/plain": [
       "<Axes: ylabel='ANNUAL'>"
      ]
     },
     "execution_count": 13,
     "metadata": {},
     "output_type": "execute_result"
    },
    {
     "data": {
      "image/png": "[encoded data removed]",
      "text/plain": [
       "<Figure size 1500x1800 with 4 Axes>"
      ]
     },
     "metadata": {},
     "output_type": "display_data"
    }
   ],
   "source": [
    "fig, ax = plt.subplots(2,2, figsize= (15,18))\n",
    "sns.boxplot(data['HRLY RATE'], ax= ax[0,0])\n",
    "sns.boxplot(data['HRS PER WK'], ax= ax[0,1])\n",
    "sns.boxplot(data['MONTHLY'], ax= ax[1,0])\n",
    "sns.boxplot(data['ANNUAL'], ax= ax[1,1])"
   ]
  },
  {
   "cell_type": "code",
   "execution_count": 14,
   "id": "be774842-73a0-4bca-aedb-4e694e4d3225",
   "metadata": {},
   "outputs": [
    {
     "data": {
      "text/html": [
       "<div>\n",
       "<style scoped>\n",
       "    .dataframe tbody tr th:only-of-type {\n",
       "        vertical-align: middle;\n",
       "    }\n",
       "\n",
       "    .dataframe tbody tr th {\n",
       "        vertical-align: top;\n",
       "    }\n",
       "\n",
       "    .dataframe thead th {\n",
       "        text-align: right;\n",
       "    }\n",
       "</style>\n",
       "<table border=\"1\" class=\"dataframe\">\n",
       "  <thead>\n",
       "    <tr style=\"text-align: right;\">\n",
       "      <th></th>\n",
       "      <th>AGENCY</th>\n",
       "      <th>AGENCY NAME</th>\n",
       "      <th>LAST NAME</th>\n",
       "      <th>FIRST NAME</th>\n",
       "      <th>MI</th>\n",
       "      <th>CLASS CODE</th>\n",
       "      <th>CLASS TITLE</th>\n",
       "      <th>ETHNICITY</th>\n",
       "      <th>GENDER</th>\n",
       "      <th>STATUS</th>\n",
       "      <th>EMPLOY DATE</th>\n",
       "      <th>HRLY RATE</th>\n",
       "      <th>HRS PER WK</th>\n",
       "      <th>MONTHLY</th>\n",
       "      <th>ANNUAL</th>\n",
       "    </tr>\n",
       "  </thead>\n",
       "  <tbody>\n",
       "    <tr>\n",
       "      <th>0</th>\n",
       "      <td>241</td>\n",
       "      <td>COMPTROLLER OF PUBLIC ACCOUNTS, JUDICIARY SECT...</td>\n",
       "      <td>RUCKER</td>\n",
       "      <td>MORTON</td>\n",
       "      <td>V</td>\n",
       "      <td>JD25</td>\n",
       "      <td>JUDGE, RETIRED                                ...</td>\n",
       "      <td>WHITE</td>\n",
       "      <td>MALE</td>\n",
       "      <td>URP - UNCLASSIFIED REGULAR PART-TIME</td>\n",
       "      <td>02/18/88</td>\n",
       "      <td>75.96150</td>\n",
       "      <td>29.0</td>\n",
       "      <td>7634.765</td>\n",
       "      <td>91617.18</td>\n",
       "    </tr>\n",
       "    <tr>\n",
       "      <th>1</th>\n",
       "      <td>212</td>\n",
       "      <td>OFFICE OF COURT ADMINISTRATION                ...</td>\n",
       "      <td>RUCKER</td>\n",
       "      <td>MORTON</td>\n",
       "      <td>V</td>\n",
       "      <td>3524</td>\n",
       "      <td>GENERAL COUNSEL IV                            ...</td>\n",
       "      <td>WHITE</td>\n",
       "      <td>MALE</td>\n",
       "      <td>CTP - CLASSIFIED TEMPORARY PART-TIME</td>\n",
       "      <td>02/01/15</td>\n",
       "      <td>81.04454</td>\n",
       "      <td>4.0</td>\n",
       "      <td>1404.770</td>\n",
       "      <td>16857.24</td>\n",
       "    </tr>\n",
       "  </tbody>\n",
       "</table>\n",
       "</div>"
      ],
      "text/plain": [
       "   AGENCY                                        AGENCY NAME  \\\n",
       "0     241  COMPTROLLER OF PUBLIC ACCOUNTS, JUDICIARY SECT...   \n",
       "1     212  OFFICE OF COURT ADMINISTRATION                ...   \n",
       "\n",
       "                        LAST NAME                      FIRST NAME MI  \\\n",
       "0  RUCKER                          MORTON                          V   \n",
       "1  RUCKER                          MORTON                          V   \n",
       "\n",
       "  CLASS CODE                                        CLASS TITLE  \\\n",
       "0   JD25      JUDGE, RETIRED                                ...   \n",
       "1   3524      GENERAL COUNSEL IV                            ...   \n",
       "\n",
       "         ETHNICITY           GENDER                                    STATUS  \\\n",
       "0  WHITE            MALE             URP - UNCLASSIFIED REGULAR PART-TIME       \n",
       "1  WHITE            MALE             CTP - CLASSIFIED TEMPORARY PART-TIME       \n",
       "\n",
       "  EMPLOY DATE  HRLY RATE  HRS PER WK   MONTHLY    ANNUAL  \n",
       "0    02/18/88   75.96150        29.0  7634.765  91617.18  \n",
       "1    02/01/15   81.04454         4.0  1404.770  16857.24  "
      ]
     },
     "execution_count": 14,
     "metadata": {},
     "output_type": "execute_result"
    }
   ],
   "source": [
    "data.head(2)"
   ]
  },
  {
   "cell_type": "markdown",
   "id": "431be1ec-ea01-4721-89b5-3459eae6f9b5",
   "metadata": {},
   "source": [
    "### Salaries and compensation changing over time "
   ]
  },
  {
   "cell_type": "code",
   "execution_count": 15,
   "id": "c61ab5e4-07ba-4126-bcf9-7958d0e33e6a",
   "metadata": {},
   "outputs": [
    {
     "name": "stderr",
     "output_type": "stream",
     "text": [
      "C:\\Users\\miral.MIRAL-K\\AppData\\Local\\Temp\\ipykernel_24692\\3074601376.py:2: UserWarning: Could not infer format, so each element will be parsed individually, falling back to `dateutil`. To ensure parsing is consistent and as-expected, please specify a format.\n",
      "  data['EMPLOY YEAR'] = pd.to_datetime(data['EMPLOY DATE'], errors='coerce').dt.year\n"
     ]
    },
    {
     "data": {
      "image/png": "[encoded data removed]",
      "text/plain": [
       "<Figure size 1200x600 with 1 Axes>"
      ]
     },
     "metadata": {},
     "output_type": "display_data"
    }
   ],
   "source": [
    "\n",
    "\n",
    "# Convert the \"EMPLOY DATE\" to datetime and extract the year\n",
    "data['EMPLOY YEAR'] = pd.to_datetime(data['EMPLOY DATE'], errors='coerce').dt.year\n",
    "\n",
    "# Calculate the mean annual salary by year, including handling NaNs automatically in the mean calculation\n",
    "annual_salary_by_year = data.groupby('EMPLOY YEAR')['ANNUAL'].mean().reset_index()\n",
    "\n",
    "# Plot the trend over time\n",
    "plt.figure(figsize=(12, 6))\n",
    "plt.plot(annual_salary_by_year['EMPLOY YEAR'], annual_salary_by_year['ANNUAL'], marker='o')\n",
    "plt.xlabel('Year')\n",
    "plt.ylabel('Average Annual Salary')\n",
    "plt.title('Average Annual Salary Over Time')\n",
    "plt.grid(True)\n",
    "plt.show()\n"
   ]
  },
  {
   "cell_type": "markdown",
   "id": "4c9e6aa0-7879-42c0-a4b9-75c3a9ca799e",
   "metadata": {},
   "source": [
    "#### EDA ####"
   ]
  },
  {
   "cell_type": "code",
   "execution_count": 16,
   "id": "86cf4f22-76be-4518-9ac0-c4aa2c86cdfc",
   "metadata": {},
   "outputs": [
    {
     "data": {
      "text/plain": [
       "<seaborn.axisgrid.FacetGrid at 0x24c9b5503d0>"
      ]
     },
     "execution_count": 16,
     "metadata": {},
     "output_type": "execute_result"
    },
    {
     "data": {
      "image/png": "[encoded data removed]",
      "text/plain": [
       "<Figure size 500x500 with 1 Axes>"
      ]
     },
     "metadata": {},
     "output_type": "display_data"
    }
   ],
   "source": [
    "sns.displot(x=data.ANNUAL,kde=True) #The graph follows a bell curve (normally distributed) but has some disparities as well\n",
    "#this can be because of different Categories of job and Status and department in which the employee is in."
   ]
  },
  {
   "cell_type": "markdown",
   "id": "c7f54c03-61c1-43f7-baa6-3ff55355ecbc",
   "metadata": {},
   "source": [
    "##### Correlation heatmap displaying correaltion between the columns with respect to each other #####"
   ]
  },
  {
   "cell_type": "code",
   "execution_count": null,
   "id": "fedac49d-48ca-43e5-bbee-38075b50119b",
   "metadata": {},
   "outputs": [],
   "source": []
  },
  {
   "cell_type": "code",
   "execution_count": 17,
   "id": "63b3f482-aa81-49cc-941c-9f19f7fe976f",
   "metadata": {},
   "outputs": [
    {
     "data": {
      "image/png": "[encoded data removed]",
      "text/plain": [
       "<Figure size 1000x800 with 2 Axes>"
      ]
     },
     "metadata": {},
     "output_type": "display_data"
    }
   ],
   "source": [
    "import seaborn as sns\n",
    "numerical_data = data.select_dtypes(include=['int64', 'float64'])\n",
    "\n",
    "# Calculate correlation matrix\n",
    "correlation_matrix = numerical_data.corr()\n",
    "\n",
    "# Draw heatmap\n",
    "plt.figure(figsize=(10, 8))\n",
    "sns.heatmap(correlation_matrix, annot=True, cmap='coolwarm', center=0)\n",
    "plt.title('Correlation Heatmap')\n",
    "plt.show()"
   ]
  },
  {
   "cell_type": "markdown",
   "id": "e9164930-bd5e-4e7d-ad2f-93087c96b904",
   "metadata": {},
   "source": [
    "##### Creating Pivot Table to determine TYpe of employement (STATUS) and their respective Agencies with the annual salary they provide. #####"
   ]
  },
  {
   "cell_type": "code",
   "execution_count": 18,
   "id": "5f2eb442-de2b-4951-aa62-1b8ecf7fc995",
   "metadata": {},
   "outputs": [
    {
     "data": {
      "text/html": [
       "<div>\n",
       "<style scoped>\n",
       "    .dataframe tbody tr th:only-of-type {\n",
       "        vertical-align: middle;\n",
       "    }\n",
       "\n",
       "    .dataframe tbody tr th {\n",
       "        vertical-align: top;\n",
       "    }\n",
       "\n",
       "    .dataframe thead th {\n",
       "        text-align: right;\n",
       "    }\n",
       "</style>\n",
       "<table border=\"1\" class=\"dataframe\">\n",
       "  <thead>\n",
       "    <tr style=\"text-align: right;\">\n",
       "      <th></th>\n",
       "      <th></th>\n",
       "      <th>ANNUAL</th>\n",
       "    </tr>\n",
       "    <tr>\n",
       "      <th>STATUS</th>\n",
       "      <th>AGENCY NAME</th>\n",
       "      <th></th>\n",
       "    </tr>\n",
       "  </thead>\n",
       "  <tbody>\n",
       "    <tr>\n",
       "      <th rowspan=\"5\" valign=\"top\">CRF - CLASSIFIED REGULAR FULL-TIME</th>\n",
       "      <th>ALCOHOLIC BEVERAGE COMMISSION</th>\n",
       "      <td>59252.214010</td>\n",
       "    </tr>\n",
       "    <tr>\n",
       "      <th>BOARD OF ARCHITECTURAL EXAMINERS</th>\n",
       "      <td>75275.407500</td>\n",
       "    </tr>\n",
       "    <tr>\n",
       "      <th>BOARD OF CHIROPRACTIC EXAMINERS</th>\n",
       "      <td>59073.386667</td>\n",
       "    </tr>\n",
       "    <tr>\n",
       "      <th>BOARD OF DENTAL EXAMINERS</th>\n",
       "      <td>51077.962909</td>\n",
       "    </tr>\n",
       "    <tr>\n",
       "      <th>BOARD OF EXAMINERS OF PSYCHOLOGISTS</th>\n",
       "      <td>48445.975385</td>\n",
       "    </tr>\n",
       "    <tr>\n",
       "      <th>...</th>\n",
       "      <th>...</th>\n",
       "      <td>...</td>\n",
       "    </tr>\n",
       "    <tr>\n",
       "      <th>UTF - UNCLASSIFIED TEMPORARY FULL-TIME</th>\n",
       "      <th>TEXAS LEGISLATIVE COUNCIL</th>\n",
       "      <td>91617.180000</td>\n",
       "    </tr>\n",
       "    <tr>\n",
       "      <th rowspan=\"4\" valign=\"top\">UTP - UNCLASSIFIED TEMPORARY PART-TIME</th>\n",
       "      <th>HOUSE OF REPRESENTATIVES</th>\n",
       "      <td>60000.000000</td>\n",
       "    </tr>\n",
       "    <tr>\n",
       "      <th>SCHOOL FOR THE BLIND AND VISUALLY IMPAIRED</th>\n",
       "      <td>13666.620000</td>\n",
       "    </tr>\n",
       "    <tr>\n",
       "      <th>SENATE</th>\n",
       "      <td>13766.865882</td>\n",
       "    </tr>\n",
       "    <tr>\n",
       "      <th>TEXAS LEGISLATIVE COUNCIL</th>\n",
       "      <td>56289.000000</td>\n",
       "    </tr>\n",
       "  </tbody>\n",
       "</table>\n",
       "<p>328 rows × 1 columns</p>\n",
       "</div>"
      ],
      "text/plain": [
       "                                                                                                   ANNUAL\n",
       "STATUS                                   AGENCY NAME                                                     \n",
       "CRF - CLASSIFIED REGULAR FULL-TIME       ALCOHOLIC BEVERAGE COMMISSION                       59252.214010\n",
       "                                         BOARD OF ARCHITECTURAL EXAMINERS                    75275.407500\n",
       "                                         BOARD OF CHIROPRACTIC EXAMINERS                     59073.386667\n",
       "                                         BOARD OF DENTAL EXAMINERS                           51077.962909\n",
       "                                         BOARD OF EXAMINERS OF PSYCHOLOGISTS                 48445.975385\n",
       "...                                                                                                   ...\n",
       "UTF - UNCLASSIFIED TEMPORARY FULL-TIME   TEXAS LEGISLATIVE COUNCIL                           91617.180000\n",
       "UTP - UNCLASSIFIED TEMPORARY PART-TIME   HOUSE OF REPRESENTATIVES                            60000.000000\n",
       "                                         SCHOOL FOR THE BLIND AND VISUALLY IMPAIRED          13666.620000\n",
       "                                         SENATE                                              13766.865882\n",
       "                                         TEXAS LEGISLATIVE COUNCIL                           56289.000000\n",
       "\n",
       "[328 rows x 1 columns]"
      ]
     },
     "execution_count": 18,
     "metadata": {},
     "output_type": "execute_result"
    }
   ],
   "source": [
    "pd.pivot_table(data, index = ['STATUS','AGENCY NAME'], values = 'ANNUAL')"
   ]
  },
  {
   "cell_type": "markdown",
   "id": "0f9bd267-fcaf-4bec-ae78-351110bd3335",
   "metadata": {},
   "source": [
    "##### Number of all unique Agencies #####"
   ]
  },
  {
   "cell_type": "code",
   "execution_count": 19,
   "id": "c976c997-413a-4fa3-b41a-374390a069ed",
   "metadata": {},
   "outputs": [
    {
     "data": {
      "text/html": [
       "<div>\n",
       "<style scoped>\n",
       "    .dataframe tbody tr th:only-of-type {\n",
       "        vertical-align: middle;\n",
       "    }\n",
       "\n",
       "    .dataframe tbody tr th {\n",
       "        vertical-align: top;\n",
       "    }\n",
       "\n",
       "    .dataframe thead th {\n",
       "        text-align: right;\n",
       "    }\n",
       "</style>\n",
       "<table border=\"1\" class=\"dataframe\">\n",
       "  <thead>\n",
       "    <tr style=\"text-align: right;\">\n",
       "      <th></th>\n",
       "      <th>CLASS TITLE</th>\n",
       "    </tr>\n",
       "    <tr>\n",
       "      <th>AGENCY NAME</th>\n",
       "      <th></th>\n",
       "    </tr>\n",
       "  </thead>\n",
       "  <tbody>\n",
       "    <tr>\n",
       "      <th>ALCOHOLIC BEVERAGE COMMISSION</th>\n",
       "      <td>642</td>\n",
       "    </tr>\n",
       "    <tr>\n",
       "      <th>BOARD OF ARCHITECTURAL EXAMINERS</th>\n",
       "      <td>19</td>\n",
       "    </tr>\n",
       "    <tr>\n",
       "      <th>BOARD OF CHIROPRACTIC EXAMINERS</th>\n",
       "      <td>10</td>\n",
       "    </tr>\n",
       "    <tr>\n",
       "      <th>BOARD OF DENTAL EXAMINERS</th>\n",
       "      <td>56</td>\n",
       "    </tr>\n",
       "    <tr>\n",
       "      <th>BOARD OF EXAMINERS OF PSYCHOLOGISTS</th>\n",
       "      <td>15</td>\n",
       "    </tr>\n",
       "    <tr>\n",
       "      <th>...</th>\n",
       "      <td>...</td>\n",
       "    </tr>\n",
       "    <tr>\n",
       "      <th>THIRD COURT OF APPEALS DISTRICT</th>\n",
       "      <td>32</td>\n",
       "    </tr>\n",
       "    <tr>\n",
       "      <th>THIRTEENTH COURT OF APPEALS DISTRICT</th>\n",
       "      <td>30</td>\n",
       "    </tr>\n",
       "    <tr>\n",
       "      <th>TREASURY SAFEKEEPING TRUST COMPANY</th>\n",
       "      <td>71</td>\n",
       "    </tr>\n",
       "    <tr>\n",
       "      <th>TWELFTH COURT OF APPEALS DISTRICT</th>\n",
       "      <td>15</td>\n",
       "    </tr>\n",
       "    <tr>\n",
       "      <th>WATER DEVELOPMENT BOARD</th>\n",
       "      <td>340</td>\n",
       "    </tr>\n",
       "  </tbody>\n",
       "</table>\n",
       "<p>113 rows × 1 columns</p>\n",
       "</div>"
      ],
      "text/plain": [
       "                                                    CLASS TITLE\n",
       "AGENCY NAME                                                    \n",
       "ALCOHOLIC BEVERAGE COMMISSION                               642\n",
       "BOARD OF ARCHITECTURAL EXAMINERS                             19\n",
       "BOARD OF CHIROPRACTIC EXAMINERS                              10\n",
       "BOARD OF DENTAL EXAMINERS                                    56\n",
       "BOARD OF EXAMINERS OF PSYCHOLOGISTS                          15\n",
       "...                                                         ...\n",
       "THIRD COURT OF APPEALS DISTRICT                              32\n",
       "THIRTEENTH COURT OF APPEALS DISTRICT                         30\n",
       "TREASURY SAFEKEEPING TRUST COMPANY                           71\n",
       "TWELFTH COURT OF APPEALS DISTRICT                            15\n",
       "WATER DEVELOPMENT BOARD                                     340\n",
       "\n",
       "[113 rows x 1 columns]"
      ]
     },
     "execution_count": 19,
     "metadata": {},
     "output_type": "execute_result"
    }
   ],
   "source": [
    "pd.pivot_table(data, index = ['AGENCY NAME'], values = ['CLASS TITLE'], aggfunc = 'count')\n"
   ]
  },
  {
   "cell_type": "code",
   "execution_count": 20,
   "id": "8e26333a-4698-4294-b540-d31e2f89f700",
   "metadata": {},
   "outputs": [
    {
     "data": {
      "text/html": [
       "<div>\n",
       "<style scoped>\n",
       "    .dataframe tbody tr th:only-of-type {\n",
       "        vertical-align: middle;\n",
       "    }\n",
       "\n",
       "    .dataframe tbody tr th {\n",
       "        vertical-align: top;\n",
       "    }\n",
       "\n",
       "    .dataframe thead th {\n",
       "        text-align: right;\n",
       "    }\n",
       "</style>\n",
       "<table border=\"1\" class=\"dataframe\">\n",
       "  <thead>\n",
       "    <tr style=\"text-align: right;\">\n",
       "      <th></th>\n",
       "      <th></th>\n",
       "      <th>ANNUAL</th>\n",
       "    </tr>\n",
       "    <tr>\n",
       "      <th>CLASS TITLE</th>\n",
       "      <th>STATUS</th>\n",
       "      <th></th>\n",
       "    </tr>\n",
       "  </thead>\n",
       "  <tbody>\n",
       "    <tr>\n",
       "      <th>14 CUSTOMER SERVICES REP</th>\n",
       "      <th>URF - UNCLASSIFIED REGULAR FULL-TIME</th>\n",
       "      <td>40403.177143</td>\n",
       "    </tr>\n",
       "    <tr>\n",
       "      <th>19 EXECUTIVE ASSISTANT</th>\n",
       "      <th>URF - UNCLASSIFIED REGULAR FULL-TIME</th>\n",
       "      <td>64992.960000</td>\n",
       "    </tr>\n",
       "    <tr>\n",
       "      <th>20 PROGRAM SPECIALIST III</th>\n",
       "      <th>URF - UNCLASSIFIED REGULAR FULL-TIME</th>\n",
       "      <td>59445.274286</td>\n",
       "    </tr>\n",
       "    <tr>\n",
       "      <th>21 BUSINESS ANALYST</th>\n",
       "      <th>URF - UNCLASSIFIED REGULAR FULL-TIME</th>\n",
       "      <td>64422.800000</td>\n",
       "    </tr>\n",
       "    <tr>\n",
       "      <th>21 SYSTEMS ADMINISTRATOR III</th>\n",
       "      <th>URF - UNCLASSIFIED REGULAR FULL-TIME</th>\n",
       "      <td>58375.020000</td>\n",
       "    </tr>\n",
       "    <tr>\n",
       "      <th>...</th>\n",
       "      <th>...</th>\n",
       "      <td>...</td>\n",
       "    </tr>\n",
       "    <tr>\n",
       "      <th>WRITING SPEC I</th>\n",
       "      <th>URF - UNCLASSIFIED REGULAR FULL-TIME</th>\n",
       "      <td>39249.960000</td>\n",
       "    </tr>\n",
       "    <tr>\n",
       "      <th>WRITING SPEC II</th>\n",
       "      <th>URF - UNCLASSIFIED REGULAR FULL-TIME</th>\n",
       "      <td>42999.960000</td>\n",
       "    </tr>\n",
       "    <tr>\n",
       "      <th>WRITING SPECIALIST III</th>\n",
       "      <th>URF - UNCLASSIFIED REGULAR FULL-TIME</th>\n",
       "      <td>49451.920000</td>\n",
       "    </tr>\n",
       "    <tr>\n",
       "      <th>YOUTH FACILITY ASST SUPT</th>\n",
       "      <th>CRF - CLASSIFIED REGULAR FULL-TIME</th>\n",
       "      <td>75165.240000</td>\n",
       "    </tr>\n",
       "    <tr>\n",
       "      <th>YOUTH FACILITY SUPERINTENDENT</th>\n",
       "      <th>CRF - CLASSIFIED REGULAR FULL-TIME</th>\n",
       "      <td>91170.300000</td>\n",
       "    </tr>\n",
       "  </tbody>\n",
       "</table>\n",
       "<p>1811 rows × 1 columns</p>\n",
       "</div>"
      ],
      "text/plain": [
       "                                                                                                   ANNUAL\n",
       "CLASS TITLE                                        STATUS                                                \n",
       "14 CUSTOMER SERVICES REP                           URF - UNCLASSIFIED REGULAR FULL-TIME      40403.177143\n",
       "19 EXECUTIVE ASSISTANT                             URF - UNCLASSIFIED REGULAR FULL-TIME      64992.960000\n",
       "20 PROGRAM SPECIALIST III                          URF - UNCLASSIFIED REGULAR FULL-TIME      59445.274286\n",
       "21 BUSINESS ANALYST                                URF - UNCLASSIFIED REGULAR FULL-TIME      64422.800000\n",
       "21 SYSTEMS ADMINISTRATOR III                       URF - UNCLASSIFIED REGULAR FULL-TIME      58375.020000\n",
       "...                                                                                                   ...\n",
       "WRITING SPEC I                                     URF - UNCLASSIFIED REGULAR FULL-TIME      39249.960000\n",
       "WRITING SPEC II                                    URF - UNCLASSIFIED REGULAR FULL-TIME      42999.960000\n",
       "WRITING SPECIALIST III                             URF - UNCLASSIFIED REGULAR FULL-TIME      49451.920000\n",
       "YOUTH FACILITY ASST SUPT                           CRF - CLASSIFIED REGULAR FULL-TIME        75165.240000\n",
       "YOUTH FACILITY SUPERINTENDENT                      CRF - CLASSIFIED REGULAR FULL-TIME        91170.300000\n",
       "\n",
       "[1811 rows x 1 columns]"
      ]
     },
     "execution_count": 20,
     "metadata": {},
     "output_type": "execute_result"
    }
   ],
   "source": [
    "pd.pivot_table(data, index = ['CLASS TITLE','STATUS'], values = 'ANNUAL')"
   ]
  },
  {
   "cell_type": "code",
   "execution_count": 21,
   "id": "ad0edfdc-c12c-4a40-862c-107bcb5073a6",
   "metadata": {},
   "outputs": [
    {
     "data": {
      "text/html": [
       "<div>\n",
       "<style scoped>\n",
       "    .dataframe tbody tr th:only-of-type {\n",
       "        vertical-align: middle;\n",
       "    }\n",
       "\n",
       "    .dataframe tbody tr th {\n",
       "        vertical-align: top;\n",
       "    }\n",
       "\n",
       "    .dataframe thead th {\n",
       "        text-align: right;\n",
       "    }\n",
       "</style>\n",
       "<table border=\"1\" class=\"dataframe\">\n",
       "  <thead>\n",
       "    <tr style=\"text-align: right;\">\n",
       "      <th></th>\n",
       "      <th>AGENCY</th>\n",
       "      <th>AGENCY NAME</th>\n",
       "      <th>LAST NAME</th>\n",
       "      <th>FIRST NAME</th>\n",
       "      <th>MI</th>\n",
       "      <th>CLASS CODE</th>\n",
       "      <th>CLASS TITLE</th>\n",
       "      <th>ETHNICITY</th>\n",
       "      <th>GENDER</th>\n",
       "      <th>STATUS</th>\n",
       "      <th>EMPLOY DATE</th>\n",
       "      <th>HRLY RATE</th>\n",
       "      <th>HRS PER WK</th>\n",
       "      <th>MONTHLY</th>\n",
       "      <th>ANNUAL</th>\n",
       "      <th>EMPLOY YEAR</th>\n",
       "    </tr>\n",
       "  </thead>\n",
       "  <tbody>\n",
       "    <tr>\n",
       "      <th>0</th>\n",
       "      <td>241</td>\n",
       "      <td>COMPTROLLER OF PUBLIC ACCOUNTS, JUDICIARY SECT...</td>\n",
       "      <td>RUCKER</td>\n",
       "      <td>MORTON</td>\n",
       "      <td>V</td>\n",
       "      <td>JD25</td>\n",
       "      <td>JUDGE, RETIRED                                ...</td>\n",
       "      <td>WHITE</td>\n",
       "      <td>MALE</td>\n",
       "      <td>URP - UNCLASSIFIED REGULAR PART-TIME</td>\n",
       "      <td>02/18/88</td>\n",
       "      <td>75.96150</td>\n",
       "      <td>29.0</td>\n",
       "      <td>7634.765</td>\n",
       "      <td>91617.18</td>\n",
       "      <td>1988</td>\n",
       "    </tr>\n",
       "    <tr>\n",
       "      <th>1</th>\n",
       "      <td>212</td>\n",
       "      <td>OFFICE OF COURT ADMINISTRATION                ...</td>\n",
       "      <td>RUCKER</td>\n",
       "      <td>MORTON</td>\n",
       "      <td>V</td>\n",
       "      <td>3524</td>\n",
       "      <td>GENERAL COUNSEL IV                            ...</td>\n",
       "      <td>WHITE</td>\n",
       "      <td>MALE</td>\n",
       "      <td>CTP - CLASSIFIED TEMPORARY PART-TIME</td>\n",
       "      <td>02/01/15</td>\n",
       "      <td>81.04454</td>\n",
       "      <td>4.0</td>\n",
       "      <td>1404.770</td>\n",
       "      <td>16857.24</td>\n",
       "      <td>2015</td>\n",
       "    </tr>\n",
       "    <tr>\n",
       "      <th>2</th>\n",
       "      <td>241</td>\n",
       "      <td>COMPTROLLER OF PUBLIC ACCOUNTS, JUDICIARY SECT...</td>\n",
       "      <td>SPECIA JR</td>\n",
       "      <td>JOHN</td>\n",
       "      <td>J</td>\n",
       "      <td>JD25</td>\n",
       "      <td>JUDGE, RETIRED                                ...</td>\n",
       "      <td>WHITE</td>\n",
       "      <td>MALE</td>\n",
       "      <td>URP - UNCLASSIFIED REGULAR PART-TIME</td>\n",
       "      <td>02/01/20</td>\n",
       "      <td>75.96150</td>\n",
       "      <td>29.0</td>\n",
       "      <td>7634.765</td>\n",
       "      <td>91617.18</td>\n",
       "      <td>2020</td>\n",
       "    </tr>\n",
       "    <tr>\n",
       "      <th>3</th>\n",
       "      <td>212</td>\n",
       "      <td>OFFICE OF COURT ADMINISTRATION                ...</td>\n",
       "      <td>SPECIA JR</td>\n",
       "      <td>JOHN</td>\n",
       "      <td>J</td>\n",
       "      <td>3524</td>\n",
       "      <td>GENERAL COUNSEL IV                            ...</td>\n",
       "      <td>WHITE</td>\n",
       "      <td>MALE</td>\n",
       "      <td>CTP - CLASSIFIED TEMPORARY PART-TIME</td>\n",
       "      <td>09/01/18</td>\n",
       "      <td>81.04453</td>\n",
       "      <td>4.0</td>\n",
       "      <td>1404.770</td>\n",
       "      <td>16857.24</td>\n",
       "      <td>2018</td>\n",
       "    </tr>\n",
       "    <tr>\n",
       "      <th>4</th>\n",
       "      <td>696</td>\n",
       "      <td>TEXAS DEPARTMENT OF CRIMINAL JUSTICE          ...</td>\n",
       "      <td>ONTIVEROS</td>\n",
       "      <td>ESTHER</td>\n",
       "      <td></td>\n",
       "      <td>4504</td>\n",
       "      <td>CORREC  OFFICER IV                            ...</td>\n",
       "      <td>HISPANIC</td>\n",
       "      <td>FEMALE</td>\n",
       "      <td>CRF - CLASSIFIED REGULAR FULL-TIME</td>\n",
       "      <td>06/29/20</td>\n",
       "      <td>0.00000</td>\n",
       "      <td>40.0</td>\n",
       "      <td>3284.270</td>\n",
       "      <td>39411.24</td>\n",
       "      <td>2020</td>\n",
       "    </tr>\n",
       "  </tbody>\n",
       "</table>\n",
       "</div>"
      ],
      "text/plain": [
       "   AGENCY                                        AGENCY NAME  \\\n",
       "0     241  COMPTROLLER OF PUBLIC ACCOUNTS, JUDICIARY SECT...   \n",
       "1     212  OFFICE OF COURT ADMINISTRATION                ...   \n",
       "2     241  COMPTROLLER OF PUBLIC ACCOUNTS, JUDICIARY SECT...   \n",
       "3     212  OFFICE OF COURT ADMINISTRATION                ...   \n",
       "4     696  TEXAS DEPARTMENT OF CRIMINAL JUSTICE          ...   \n",
       "\n",
       "                        LAST NAME                      FIRST NAME MI  \\\n",
       "0  RUCKER                          MORTON                          V   \n",
       "1  RUCKER                          MORTON                          V   \n",
       "2  SPECIA JR                       JOHN                            J   \n",
       "3  SPECIA JR                       JOHN                            J   \n",
       "4  ONTIVEROS                       ESTHER                              \n",
       "\n",
       "  CLASS CODE                                        CLASS TITLE  \\\n",
       "0   JD25      JUDGE, RETIRED                                ...   \n",
       "1   3524      GENERAL COUNSEL IV                            ...   \n",
       "2   JD25      JUDGE, RETIRED                                ...   \n",
       "3   3524      GENERAL COUNSEL IV                            ...   \n",
       "4   4504      CORREC  OFFICER IV                            ...   \n",
       "\n",
       "         ETHNICITY           GENDER                                    STATUS  \\\n",
       "0  WHITE            MALE             URP - UNCLASSIFIED REGULAR PART-TIME       \n",
       "1  WHITE            MALE             CTP - CLASSIFIED TEMPORARY PART-TIME       \n",
       "2  WHITE            MALE             URP - UNCLASSIFIED REGULAR PART-TIME       \n",
       "3  WHITE            MALE             CTP - CLASSIFIED TEMPORARY PART-TIME       \n",
       "4  HISPANIC         FEMALE           CRF - CLASSIFIED REGULAR FULL-TIME         \n",
       "\n",
       "  EMPLOY DATE  HRLY RATE  HRS PER WK   MONTHLY    ANNUAL  EMPLOY YEAR  \n",
       "0    02/18/88   75.96150        29.0  7634.765  91617.18         1988  \n",
       "1    02/01/15   81.04454         4.0  1404.770  16857.24         2015  \n",
       "2    02/01/20   75.96150        29.0  7634.765  91617.18         2020  \n",
       "3    09/01/18   81.04453         4.0  1404.770  16857.24         2018  \n",
       "4    06/29/20    0.00000        40.0  3284.270  39411.24         2020  "
      ]
     },
     "execution_count": 21,
     "metadata": {},
     "output_type": "execute_result"
    }
   ],
   "source": [
    "data.head()"
   ]
  },
  {
   "cell_type": "markdown",
   "id": "c8df6119-39fa-41c3-83cd-d75a192a7e92",
   "metadata": {},
   "source": [
    "##### Converting Categorical data into numerical data for model Training #####\n",
    "###### ->We need to use data as gender or ethnicity or status in model training but cannot use string/object in model training thats why we encode them using labelencoder which assigns a numerical value to each new unique field(data value) #####"
   ]
  },
  {
   "cell_type": "code",
   "execution_count": 22,
   "id": "dd2dffaf-e0c0-46f1-b725-62443de08993",
   "metadata": {},
   "outputs": [],
   "source": [
    "from sklearn.preprocessing import LabelEncoder\n",
    "\n",
    "# Initialize label encoders\n",
    "ethnicity_le = LabelEncoder()\n",
    "gender_le = LabelEncoder()\n",
    "\n",
    "# Apply label encoding to 'ETHNICITY' and 'GENDER'\n",
    "data['ETHNICITY'] = ethnicity_le.fit_transform(data['ETHNICITY'].astype(str))\n",
    "data['GENDER'] = gender_le.fit_transform(data['GENDER'].astype(str))"
   ]
  },
  {
   "cell_type": "code",
   "execution_count": 23,
   "id": "ef69d367-5588-4fb4-a1aa-99194ec948e2",
   "metadata": {},
   "outputs": [
    {
     "name": "stdout",
     "output_type": "stream",
     "text": [
      "{'FEMALE         ': 0, 'MALE           ': 1}\n"
     ]
    },
    {
     "data": {
      "text/plain": [
       "{'AM INDIAN      ': 0,\n",
       " 'ASIAN          ': 1,\n",
       " 'BLACK          ': 2,\n",
       " 'HISPANIC       ': 3,\n",
       " 'OTHER          ': 4,\n",
       " 'WHITE          ': 5}"
      ]
     },
     "execution_count": 23,
     "metadata": {},
     "output_type": "execute_result"
    }
   ],
   "source": [
    "gender_mapping1 = dict(zip(gender_le.classes_, gender_le.transform(gender_le.classes_)))\n",
    "print(gender_mapping1)  #Numeric value refering to the label encoder \n",
    "\n",
    "gender_mapping2 = dict(zip(ethnicity_le.classes_, ethnicity_le.transform(ethnicity_le.classes_)))\n",
    "gender_mapping2"
   ]
  },
  {
   "cell_type": "code",
   "execution_count": 24,
   "id": "e3e168d7-9b3f-493f-919c-6dbbccefdf55",
   "metadata": {},
   "outputs": [
    {
     "data": {
      "image/png": "[encoded data removed]",
      "text/plain": [
       "<Figure size 1200x600 with 2 Axes>"
      ]
     },
     "metadata": {},
     "output_type": "display_data"
    }
   ],
   "source": [
    "gender_distribution = data['GENDER'].value_counts()\n",
    "ethnicity_distribution = data['ETHNICITY'].value_counts()\n",
    "\n",
    "# Draw pie chart for GENDER\n",
    "plt.figure(figsize=(12, 6))\n",
    "\n",
    "plt.subplot(1, 2, 1)\n",
    "plt.pie(gender_distribution, labels=(\"Female\",\"Male\"), autopct='%1.1f%%', startangle=140)\n",
    "plt.title('Gender Distribution')\n",
    "\n",
    "# Draw pie chart for ETHNICITY\n",
    "plt.subplot(1, 2, 2)\n",
    "plt.pie(ethnicity_distribution, labels=(\"INDIAN\",'ASIAN','BLACK','HISPANIC','OTHER',\"WHITE\"), autopct='%1.1f%%', startangle=140)\n",
    "plt.title('Ethnicity Distribution')\n",
    "\n",
    "# Show the plots\n",
    "plt.tight_layout()\n",
    "plt.show()"
   ]
  },
  {
   "cell_type": "markdown",
   "id": "1132cdd6-a976-4c9f-a32c-40f0801d7833",
   "metadata": {},
   "source": [
    "#### Gender distribution among employees, it shows how majority of employees are females (57.1%) & when it comes to ethnicity AM INDIAN and ASIAN contributes for majority of the employees ####"
   ]
  },
  {
   "cell_type": "code",
   "execution_count": 25,
   "id": "d98423dc-4360-45d3-83af-e706c571ede1",
   "metadata": {},
   "outputs": [
    {
     "name": "stdout",
     "output_type": "stream",
     "text": [
      "GENDER\n",
      "0    46661.825372\n",
      "1    51786.136137\n",
      "Name: ANNUAL, dtype: float64\n"
     ]
    },
    {
     "data": {
      "image/png": "[encoded data removed]",
      "text/plain": [
       "<Figure size 800x500 with 1 Axes>"
      ]
     },
     "metadata": {},
     "output_type": "display_data"
    }
   ],
   "source": [
    "gender_salary_comparison = data.groupby('GENDER')['ANNUAL'].mean()\n",
    "print(gender_salary_comparison)\n",
    "\n",
    "# Plotting the bar graph\n",
    "plt.figure(figsize=(8, 5))\n",
    "gender_salary_comparison.plot(kind='bar', color=['blue', 'orange'])\n",
    "plt.xlabel('Gender')\n",
    "plt.ylabel(' Annual Salary')\n",
    "plt.title('Average Summed Annual Salary by Gender')\n",
    "plt.xticks()\n",
    "plt.show()"
   ]
  },
  {
   "cell_type": "markdown",
   "id": "1aeb8d9b-9ef1-4ace-b380-5571d8724b7f",
   "metadata": {},
   "source": [
    "#### Distribution of Annual Salary between Male and Female are almost the same, There is a slight difference where Male's annual salary is almost 6k higher than female ####"
   ]
  },
  {
   "cell_type": "code",
   "execution_count": 26,
   "id": "79d19e8c-bae7-4675-9a10-cc69f51de17f",
   "metadata": {},
   "outputs": [
    {
     "data": {
      "image/png": "[encoded data removed]",
      "text/plain": [
       "<Figure size 1200x800 with 2 Axes>"
      ]
     },
     "metadata": {},
     "output_type": "display_data"
    }
   ],
   "source": [
    "numerical_data = data.select_dtypes(include=['int64', 'float64'])\n",
    "\n",
    "# Calculate correlation matrix\n",
    "#correlation_matrix = numerical_data.corr()\n",
    "corr = numerical_data.corr()\n",
    "\n",
    "# Plot heatmap of feature correlations with heart disease\n",
    "plt.figure(figsize=(12, 8))\n",
    "sns.heatmap(corr[['ANNUAL']].sort_values(by='ANNUAL', ascending=False), annot=True, cmap='coolwarm')\n",
    "plt.title('Heatmap of Feature Correlations with Heart Disease')\n",
    "plt.show()"
   ]
  },
  {
   "cell_type": "markdown",
   "id": "dee9f810-10ca-4076-8ca4-825d88496574",
   "metadata": {},
   "source": [
    "#### Higher correaltion is >0.9 is not preffered as it is not good for model training, shows that the columns are almost the same, and hence one of them should be removed ####"
   ]
  },
  {
   "cell_type": "code",
   "execution_count": 27,
   "id": "f29b6e35-27d5-4f79-8ed2-f3e08c99455c",
   "metadata": {},
   "outputs": [],
   "source": [
    "data.drop('MONTHLY', axis=1, inplace=True)"
   ]
  },
  {
   "cell_type": "code",
   "execution_count": 28,
   "id": "11aed71b-3e54-40fb-863c-d58abbcc9ee2",
   "metadata": {},
   "outputs": [
    {
     "data": {
      "text/html": [
       "<div>\n",
       "<style scoped>\n",
       "    .dataframe tbody tr th:only-of-type {\n",
       "        vertical-align: middle;\n",
       "    }\n",
       "\n",
       "    .dataframe tbody tr th {\n",
       "        vertical-align: top;\n",
       "    }\n",
       "\n",
       "    .dataframe thead th {\n",
       "        text-align: right;\n",
       "    }\n",
       "</style>\n",
       "<table border=\"1\" class=\"dataframe\">\n",
       "  <thead>\n",
       "    <tr style=\"text-align: right;\">\n",
       "      <th></th>\n",
       "      <th>AGENCY</th>\n",
       "      <th>AGENCY NAME</th>\n",
       "      <th>LAST NAME</th>\n",
       "      <th>FIRST NAME</th>\n",
       "      <th>MI</th>\n",
       "      <th>CLASS CODE</th>\n",
       "      <th>CLASS TITLE</th>\n",
       "      <th>ETHNICITY</th>\n",
       "      <th>GENDER</th>\n",
       "      <th>STATUS</th>\n",
       "      <th>EMPLOY DATE</th>\n",
       "      <th>HRLY RATE</th>\n",
       "      <th>HRS PER WK</th>\n",
       "      <th>ANNUAL</th>\n",
       "      <th>EMPLOY YEAR</th>\n",
       "    </tr>\n",
       "  </thead>\n",
       "  <tbody>\n",
       "    <tr>\n",
       "      <th>0</th>\n",
       "      <td>241</td>\n",
       "      <td>COMPTROLLER OF PUBLIC ACCOUNTS, JUDICIARY SECT...</td>\n",
       "      <td>RUCKER</td>\n",
       "      <td>MORTON</td>\n",
       "      <td>V</td>\n",
       "      <td>JD25</td>\n",
       "      <td>JUDGE, RETIRED                                ...</td>\n",
       "      <td>5</td>\n",
       "      <td>1</td>\n",
       "      <td>URP - UNCLASSIFIED REGULAR PART-TIME</td>\n",
       "      <td>02/18/88</td>\n",
       "      <td>75.96150</td>\n",
       "      <td>29.0</td>\n",
       "      <td>91617.18</td>\n",
       "      <td>1988</td>\n",
       "    </tr>\n",
       "    <tr>\n",
       "      <th>1</th>\n",
       "      <td>212</td>\n",
       "      <td>OFFICE OF COURT ADMINISTRATION                ...</td>\n",
       "      <td>RUCKER</td>\n",
       "      <td>MORTON</td>\n",
       "      <td>V</td>\n",
       "      <td>3524</td>\n",
       "      <td>GENERAL COUNSEL IV                            ...</td>\n",
       "      <td>5</td>\n",
       "      <td>1</td>\n",
       "      <td>CTP - CLASSIFIED TEMPORARY PART-TIME</td>\n",
       "      <td>02/01/15</td>\n",
       "      <td>81.04454</td>\n",
       "      <td>4.0</td>\n",
       "      <td>16857.24</td>\n",
       "      <td>2015</td>\n",
       "    </tr>\n",
       "    <tr>\n",
       "      <th>2</th>\n",
       "      <td>241</td>\n",
       "      <td>COMPTROLLER OF PUBLIC ACCOUNTS, JUDICIARY SECT...</td>\n",
       "      <td>SPECIA JR</td>\n",
       "      <td>JOHN</td>\n",
       "      <td>J</td>\n",
       "      <td>JD25</td>\n",
       "      <td>JUDGE, RETIRED                                ...</td>\n",
       "      <td>5</td>\n",
       "      <td>1</td>\n",
       "      <td>URP - UNCLASSIFIED REGULAR PART-TIME</td>\n",
       "      <td>02/01/20</td>\n",
       "      <td>75.96150</td>\n",
       "      <td>29.0</td>\n",
       "      <td>91617.18</td>\n",
       "      <td>2020</td>\n",
       "    </tr>\n",
       "    <tr>\n",
       "      <th>3</th>\n",
       "      <td>212</td>\n",
       "      <td>OFFICE OF COURT ADMINISTRATION                ...</td>\n",
       "      <td>SPECIA JR</td>\n",
       "      <td>JOHN</td>\n",
       "      <td>J</td>\n",
       "      <td>3524</td>\n",
       "      <td>GENERAL COUNSEL IV                            ...</td>\n",
       "      <td>5</td>\n",
       "      <td>1</td>\n",
       "      <td>CTP - CLASSIFIED TEMPORARY PART-TIME</td>\n",
       "      <td>09/01/18</td>\n",
       "      <td>81.04453</td>\n",
       "      <td>4.0</td>\n",
       "      <td>16857.24</td>\n",
       "      <td>2018</td>\n",
       "    </tr>\n",
       "    <tr>\n",
       "      <th>4</th>\n",
       "      <td>696</td>\n",
       "      <td>TEXAS DEPARTMENT OF CRIMINAL JUSTICE          ...</td>\n",
       "      <td>ONTIVEROS</td>\n",
       "      <td>ESTHER</td>\n",
       "      <td></td>\n",
       "      <td>4504</td>\n",
       "      <td>CORREC  OFFICER IV                            ...</td>\n",
       "      <td>3</td>\n",
       "      <td>0</td>\n",
       "      <td>CRF - CLASSIFIED REGULAR FULL-TIME</td>\n",
       "      <td>06/29/20</td>\n",
       "      <td>0.00000</td>\n",
       "      <td>40.0</td>\n",
       "      <td>39411.24</td>\n",
       "      <td>2020</td>\n",
       "    </tr>\n",
       "  </tbody>\n",
       "</table>\n",
       "</div>"
      ],
      "text/plain": [
       "   AGENCY                                        AGENCY NAME  \\\n",
       "0     241  COMPTROLLER OF PUBLIC ACCOUNTS, JUDICIARY SECT...   \n",
       "1     212  OFFICE OF COURT ADMINISTRATION                ...   \n",
       "2     241  COMPTROLLER OF PUBLIC ACCOUNTS, JUDICIARY SECT...   \n",
       "3     212  OFFICE OF COURT ADMINISTRATION                ...   \n",
       "4     696  TEXAS DEPARTMENT OF CRIMINAL JUSTICE          ...   \n",
       "\n",
       "                        LAST NAME                      FIRST NAME MI  \\\n",
       "0  RUCKER                          MORTON                          V   \n",
       "1  RUCKER                          MORTON                          V   \n",
       "2  SPECIA JR                       JOHN                            J   \n",
       "3  SPECIA JR                       JOHN                            J   \n",
       "4  ONTIVEROS                       ESTHER                              \n",
       "\n",
       "  CLASS CODE                                        CLASS TITLE  ETHNICITY  \\\n",
       "0   JD25      JUDGE, RETIRED                                ...          5   \n",
       "1   3524      GENERAL COUNSEL IV                            ...          5   \n",
       "2   JD25      JUDGE, RETIRED                                ...          5   \n",
       "3   3524      GENERAL COUNSEL IV                            ...          5   \n",
       "4   4504      CORREC  OFFICER IV                            ...          3   \n",
       "\n",
       "   GENDER                                    STATUS EMPLOY DATE  HRLY RATE  \\\n",
       "0       1  URP - UNCLASSIFIED REGULAR PART-TIME        02/18/88   75.96150   \n",
       "1       1  CTP - CLASSIFIED TEMPORARY PART-TIME        02/01/15   81.04454   \n",
       "2       1  URP - UNCLASSIFIED REGULAR PART-TIME        02/01/20   75.96150   \n",
       "3       1  CTP - CLASSIFIED TEMPORARY PART-TIME        09/01/18   81.04453   \n",
       "4       0  CRF - CLASSIFIED REGULAR FULL-TIME          06/29/20    0.00000   \n",
       "\n",
       "   HRS PER WK    ANNUAL  EMPLOY YEAR  \n",
       "0        29.0  91617.18         1988  \n",
       "1         4.0  16857.24         2015  \n",
       "2        29.0  91617.18         2020  \n",
       "3         4.0  16857.24         2018  \n",
       "4        40.0  39411.24         2020  "
      ]
     },
     "execution_count": 28,
     "metadata": {},
     "output_type": "execute_result"
    }
   ],
   "source": [
    "data.head()"
   ]
  },
  {
   "cell_type": "code",
   "execution_count": 29,
   "id": "7d99f7bf-afb8-48b2-b4c5-8f29ab1c49da",
   "metadata": {},
   "outputs": [
    {
     "data": {
      "text/html": [
       "<div>\n",
       "<style scoped>\n",
       "    .dataframe tbody tr th:only-of-type {\n",
       "        vertical-align: middle;\n",
       "    }\n",
       "\n",
       "    .dataframe tbody tr th {\n",
       "        vertical-align: top;\n",
       "    }\n",
       "\n",
       "    .dataframe thead th {\n",
       "        text-align: right;\n",
       "    }\n",
       "</style>\n",
       "<table border=\"1\" class=\"dataframe\">\n",
       "  <thead>\n",
       "    <tr style=\"text-align: right;\">\n",
       "      <th></th>\n",
       "      <th>AGENCY NAME</th>\n",
       "      <th>CLASS CODE</th>\n",
       "      <th>CLASS TITLE</th>\n",
       "      <th>STATUS</th>\n",
       "    </tr>\n",
       "  </thead>\n",
       "  <tbody>\n",
       "    <tr>\n",
       "      <th>0</th>\n",
       "      <td>17</td>\n",
       "      <td>1409</td>\n",
       "      <td>711</td>\n",
       "      <td>8</td>\n",
       "    </tr>\n",
       "    <tr>\n",
       "      <th>1</th>\n",
       "      <td>48</td>\n",
       "      <td>616</td>\n",
       "      <td>560</td>\n",
       "      <td>4</td>\n",
       "    </tr>\n",
       "    <tr>\n",
       "      <th>2</th>\n",
       "      <td>17</td>\n",
       "      <td>1409</td>\n",
       "      <td>711</td>\n",
       "      <td>8</td>\n",
       "    </tr>\n",
       "    <tr>\n",
       "      <th>3</th>\n",
       "      <td>48</td>\n",
       "      <td>616</td>\n",
       "      <td>560</td>\n",
       "      <td>4</td>\n",
       "    </tr>\n",
       "    <tr>\n",
       "      <th>4</th>\n",
       "      <td>88</td>\n",
       "      <td>810</td>\n",
       "      <td>292</td>\n",
       "      <td>0</td>\n",
       "    </tr>\n",
       "    <tr>\n",
       "      <th>...</th>\n",
       "      <td>...</td>\n",
       "      <td>...</td>\n",
       "      <td>...</td>\n",
       "      <td>...</td>\n",
       "    </tr>\n",
       "    <tr>\n",
       "      <th>149476</th>\n",
       "      <td>76</td>\n",
       "      <td>1042</td>\n",
       "      <td>1198</td>\n",
       "      <td>0</td>\n",
       "    </tr>\n",
       "    <tr>\n",
       "      <th>149477</th>\n",
       "      <td>76</td>\n",
       "      <td>84</td>\n",
       "      <td>1404</td>\n",
       "      <td>0</td>\n",
       "    </tr>\n",
       "    <tr>\n",
       "      <th>149478</th>\n",
       "      <td>76</td>\n",
       "      <td>4</td>\n",
       "      <td>324</td>\n",
       "      <td>1</td>\n",
       "    </tr>\n",
       "    <tr>\n",
       "      <th>149479</th>\n",
       "      <td>76</td>\n",
       "      <td>278</td>\n",
       "      <td>1007</td>\n",
       "      <td>0</td>\n",
       "    </tr>\n",
       "    <tr>\n",
       "      <th>149480</th>\n",
       "      <td>76</td>\n",
       "      <td>4</td>\n",
       "      <td>324</td>\n",
       "      <td>1</td>\n",
       "    </tr>\n",
       "  </tbody>\n",
       "</table>\n",
       "<p>149481 rows × 4 columns</p>\n",
       "</div>"
      ],
      "text/plain": [
       "        AGENCY NAME  CLASS CODE  CLASS TITLE  STATUS\n",
       "0                17        1409          711       8\n",
       "1                48         616          560       4\n",
       "2                17        1409          711       8\n",
       "3                48         616          560       4\n",
       "4                88         810          292       0\n",
       "...             ...         ...          ...     ...\n",
       "149476           76        1042         1198       0\n",
       "149477           76          84         1404       0\n",
       "149478           76           4          324       1\n",
       "149479           76         278         1007       0\n",
       "149480           76           4          324       1\n",
       "\n",
       "[149481 rows x 4 columns]"
      ]
     },
     "execution_count": 29,
     "metadata": {},
     "output_type": "execute_result"
    }
   ],
   "source": [
    "from sklearn.preprocessing import LabelEncoder\n",
    "\n",
    "enc = LabelEncoder()\n",
    "data[['AGENCY NAME','CLASS CODE','CLASS TITLE','STATUS']] = data[['AGENCY NAME','CLASS CODE','CLASS TITLE','STATUS']].apply(enc.fit_transform)\n",
    "\n",
    "data[['AGENCY NAME','CLASS CODE','CLASS TITLE','STATUS']]"
   ]
  },
  {
   "cell_type": "markdown",
   "id": "12c14be1-0f2f-468b-9e7e-a15fcb9809ef",
   "metadata": {},
   "source": [
    "#### Dataset is highly dependent on the class and status of employees, thus we cannot ignore them while model training. As they are not numeric values (string/categorical) we need to impute them as well like GENDER AND ETHNICITY ####"
   ]
  },
  {
   "cell_type": "code",
   "execution_count": 30,
   "id": "0f5b127b-a0f7-4a40-8c08-8b20f1440dd2",
   "metadata": {},
   "outputs": [
    {
     "data": {
      "text/html": [
       "<div>\n",
       "<style scoped>\n",
       "    .dataframe tbody tr th:only-of-type {\n",
       "        vertical-align: middle;\n",
       "    }\n",
       "\n",
       "    .dataframe tbody tr th {\n",
       "        vertical-align: top;\n",
       "    }\n",
       "\n",
       "    .dataframe thead th {\n",
       "        text-align: right;\n",
       "    }\n",
       "</style>\n",
       "<table border=\"1\" class=\"dataframe\">\n",
       "  <thead>\n",
       "    <tr style=\"text-align: right;\">\n",
       "      <th></th>\n",
       "      <th>AGENCY</th>\n",
       "      <th>AGENCY NAME</th>\n",
       "      <th>LAST NAME</th>\n",
       "      <th>FIRST NAME</th>\n",
       "      <th>MI</th>\n",
       "      <th>CLASS CODE</th>\n",
       "      <th>CLASS TITLE</th>\n",
       "      <th>ETHNICITY</th>\n",
       "      <th>GENDER</th>\n",
       "      <th>STATUS</th>\n",
       "      <th>EMPLOY DATE</th>\n",
       "      <th>HRLY RATE</th>\n",
       "      <th>HRS PER WK</th>\n",
       "      <th>ANNUAL</th>\n",
       "      <th>EMPLOY YEAR</th>\n",
       "    </tr>\n",
       "  </thead>\n",
       "  <tbody>\n",
       "    <tr>\n",
       "      <th>0</th>\n",
       "      <td>241</td>\n",
       "      <td>17</td>\n",
       "      <td>RUCKER</td>\n",
       "      <td>MORTON</td>\n",
       "      <td>V</td>\n",
       "      <td>1409</td>\n",
       "      <td>711</td>\n",
       "      <td>5</td>\n",
       "      <td>1</td>\n",
       "      <td>8</td>\n",
       "      <td>02/18/88</td>\n",
       "      <td>75.96150</td>\n",
       "      <td>29.0</td>\n",
       "      <td>91617.18</td>\n",
       "      <td>1988</td>\n",
       "    </tr>\n",
       "    <tr>\n",
       "      <th>1</th>\n",
       "      <td>212</td>\n",
       "      <td>48</td>\n",
       "      <td>RUCKER</td>\n",
       "      <td>MORTON</td>\n",
       "      <td>V</td>\n",
       "      <td>616</td>\n",
       "      <td>560</td>\n",
       "      <td>5</td>\n",
       "      <td>1</td>\n",
       "      <td>4</td>\n",
       "      <td>02/01/15</td>\n",
       "      <td>81.04454</td>\n",
       "      <td>4.0</td>\n",
       "      <td>16857.24</td>\n",
       "      <td>2015</td>\n",
       "    </tr>\n",
       "    <tr>\n",
       "      <th>2</th>\n",
       "      <td>241</td>\n",
       "      <td>17</td>\n",
       "      <td>SPECIA JR</td>\n",
       "      <td>JOHN</td>\n",
       "      <td>J</td>\n",
       "      <td>1409</td>\n",
       "      <td>711</td>\n",
       "      <td>5</td>\n",
       "      <td>1</td>\n",
       "      <td>8</td>\n",
       "      <td>02/01/20</td>\n",
       "      <td>75.96150</td>\n",
       "      <td>29.0</td>\n",
       "      <td>91617.18</td>\n",
       "      <td>2020</td>\n",
       "    </tr>\n",
       "  </tbody>\n",
       "</table>\n",
       "</div>"
      ],
      "text/plain": [
       "   AGENCY  AGENCY NAME                       LAST NAME  \\\n",
       "0     241           17  RUCKER                           \n",
       "1     212           48  RUCKER                           \n",
       "2     241           17  SPECIA JR                        \n",
       "\n",
       "                       FIRST NAME MI  CLASS CODE  CLASS TITLE  ETHNICITY  \\\n",
       "0  MORTON                          V        1409          711          5   \n",
       "1  MORTON                          V         616          560          5   \n",
       "2  JOHN                            J        1409          711          5   \n",
       "\n",
       "   GENDER  STATUS EMPLOY DATE  HRLY RATE  HRS PER WK    ANNUAL  EMPLOY YEAR  \n",
       "0       1       8    02/18/88   75.96150        29.0  91617.18         1988  \n",
       "1       1       4    02/01/15   81.04454         4.0  16857.24         2015  \n",
       "2       1       8    02/01/20   75.96150        29.0  91617.18         2020  "
      ]
     },
     "execution_count": 30,
     "metadata": {},
     "output_type": "execute_result"
    }
   ],
   "source": [
    "data.head(3)"
   ]
  },
  {
   "cell_type": "code",
   "execution_count": 31,
   "id": "ea7e3999-646a-487c-a855-9fb07be936d7",
   "metadata": {},
   "outputs": [],
   "source": [
    "data.drop(columns=['LAST NAME','FIRST NAME','MI','EMPLOY DATE'],axis=1,inplace=True)"
   ]
  },
  {
   "cell_type": "markdown",
   "id": "d96cfc49-bbcf-42f1-821b-860630c9e91c",
   "metadata": {},
   "source": [
    "### Defining Independent and dependent variables ###"
   ]
  },
  {
   "cell_type": "code",
   "execution_count": 32,
   "id": "1ef3a273-118f-4a5f-b7c5-44868502fcd4",
   "metadata": {},
   "outputs": [],
   "source": [
    "X=data.drop(['ANNUAL'], axis=1)\n",
    "y=data[['ANNUAL']]"
   ]
  },
  {
   "cell_type": "markdown",
   "id": "3580215f-f640-4348-bc14-4a82b0ab9bc0",
   "metadata": {},
   "source": [
    "#### Splitting the training and test set ####"
   ]
  },
  {
   "cell_type": "code",
   "execution_count": 33,
   "id": "e856de9b-4e10-4759-b5b3-2f4c133796bb",
   "metadata": {},
   "outputs": [],
   "source": [
    "from sklearn.model_selection import train_test_split\n",
    "X_train,X_test,y_train, y_test= train_test_split(X,y,test_size=0.2,random_state=0)\n"
   ]
  },
  {
   "cell_type": "markdown",
   "id": "14f8c7b0-37ed-4e89-a793-5b8e0c262fe1",
   "metadata": {},
   "source": [
    "#### Using Standard scalar to transform the data by removing the mean and scaling each feature/variable to unit variance."
   ]
  },
  {
   "cell_type": "code",
   "execution_count": 34,
   "id": "16ebbf48-6d47-4c43-86f7-ea99ad977512",
   "metadata": {},
   "outputs": [],
   "source": [
    "from sklearn.preprocessing import StandardScaler\n",
    "sc = StandardScaler()\n",
    "X_train_scaled = sc.fit_transform(X_train)\n",
    "X_test_scaled = sc.transform(X_test)"
   ]
  },
  {
   "cell_type": "markdown",
   "id": "e3d76be4-0faa-4ec4-96f8-34c4a0ef61f4",
   "metadata": {},
   "source": [
    "### Model Training"
   ]
  },
  {
   "cell_type": "code",
   "execution_count": 35,
   "id": "6e318a2b-4d9a-411e-aedd-aec4db2afd08",
   "metadata": {},
   "outputs": [],
   "source": [
    "from sklearn.linear_model import LinearRegression\n",
    "from sklearn.ensemble import RandomForestRegressor\n",
    "from sklearn.tree import DecisionTreeRegressor\n",
    "from sklearn.neighbors import KNeighborsRegressor\n",
    "#from sklearn.ensemble import GradientBoostingRegressor\n",
    "from xgboost import XGBRegressor\n",
    "from sklearn.metrics import r2_score, mean_squared_error"
   ]
  },
  {
   "cell_type": "markdown",
   "id": "c3b1fcf6-275c-47bd-8468-db3b34c17f8d",
   "metadata": {},
   "source": [
    "#### Finding the best fit of ML model for our use case \n",
    "##### 1. Linear Regression:\n",
    " Linear Regression predicts the target variable based on a linear relationship with the input features.\n",
    " Simple and interpretable, it provides a baseline for understanding how features affect salary.\n",
    "    \n",
    " ##### Advantages: #####\n",
    " Easy to implement and interpret.Requires minimal data preparation.\n",
    "    \n",
    " ##### Disadvantages:\n",
    " Assumes a linear relationship, which may not capture complexities.Sensitive to outliers."
   ]
  },
  {
   "cell_type": "code",
   "execution_count": 36,
   "id": "ed47c18d-b494-48af-bcf6-4ab5bcd320be",
   "metadata": {},
   "outputs": [
    {
     "name": "stdout",
     "output_type": "stream",
     "text": [
      "Linear Regression - R2 Score: 0.27, MSE: 256028983.36\n"
     ]
    }
   ],
   "source": [
    "#Train the model\n",
    "lr_model = LinearRegression()\n",
    "lr_model.fit(X_train_scaled, y_train)\n",
    "\n",
    "# Make predictions\n",
    "y_pred_lr = lr_model.predict(X_test_scaled)\n",
    "\n",
    "# Evaluate the model\n",
    "r2_lr = r2_score(y_test, y_pred_lr)\n",
    "mse_lr = mean_squared_error(y_test, y_pred_lr)\n",
    "print(f\"Linear Regression - R2 Score: {r2_lr:.2f}, MSE: {mse_lr:.2f}\")\n",
    "\n"
   ]
  },
  {
   "cell_type": "markdown",
   "id": "fad57ad8-8232-4098-9313-1844aea9a52b",
   "metadata": {},
   "source": [
    "\n",
    "##### 2. Random Forest Regressor:\n",
    " An ensemble method that uses multiple decision trees to improve prediction accuracy.Robust to overfitting and handles non-linear relationships, making it suitable for complex datasets like salary prediction.\n",
    "    \n",
    " ##### Advantages: #####\n",
    " Handles non-linear relationships well. Reduces overfitting through ensemble learning.\n",
    "\n",
    "    \n",
    " ##### Disadvantages:\n",
    " Computationally intensive. Less interpretable compared to simple models."
   ]
  },
  {
   "cell_type": "code",
   "execution_count": 37,
   "id": "0783b259-a137-4bdc-82b5-874eaa02aa33",
   "metadata": {},
   "outputs": [
    {
     "name": "stdout",
     "output_type": "stream",
     "text": [
      "Random Forest - R2 Score: 0.94, MSE: 19490517.01\n"
     ]
    }
   ],
   "source": [
    "\n",
    "\n",
    "# Train the model\n",
    "rf_model = RandomForestRegressor()\n",
    "rf_model.fit(X_train_scaled, y_train.values.ravel())\n",
    "\n",
    "# Make predictions\n",
    "y_pred_rf = rf_model.predict(X_test_scaled)\n",
    "\n",
    "# Evaluate the model\n",
    "r2_rf = r2_score(y_test, y_pred_rf)\n",
    "mse_rf = mean_squared_error(y_test, y_pred_rf)\n",
    "print(f\"Random Forest - R2 Score: {r2_rf:.2f}, MSE: {mse_rf:.2f}\")\n"
   ]
  },
  {
   "cell_type": "markdown",
   "id": "1c4e8566-a8e8-4ce3-901d-7eb232b66176",
   "metadata": {},
   "source": [
    "#### Decision Tree:\n",
    "A non-linear model that splits data into subsets based on feature values to make predictions. Easy to visualize and interpret. Useful for capturing non-linear relationships in salary data.\n",
    "#### Advantages:\n",
    "Simple to understand and interpret.\n",
    "Captures non-linear relationships.\n",
    "#### Disadvantages:\n",
    "Prone to overfitting. Sensitive to small data variations."
   ]
  },
  {
   "cell_type": "code",
   "execution_count": 38,
   "id": "f2fef58f-2cac-4648-afa8-5d9a83ee38db",
   "metadata": {},
   "outputs": [
    {
     "name": "stdout",
     "output_type": "stream",
     "text": [
      "Decision Tree - R2 Score: 0.925, MSE: 26242662.51\n"
     ]
    }
   ],
   "source": [
    "\n",
    "\n",
    "# Train the model\n",
    "dt_model = DecisionTreeRegressor()\n",
    "dt_model.fit(X_train_scaled, y_train.values.ravel())\n",
    "\n",
    "# Make predictions\n",
    "y_pred_dt = dt_model.predict(X_test_scaled)\n",
    "\n",
    "# Evaluate the model\n",
    "r2_dt = r2_score(y_test, y_pred_dt)\n",
    "mse_dt = mean_squared_error(y_test, y_pred_dt)\n",
    "print(f\"Decision Tree - R2 Score: {r2_dt:.3f}, MSE: {mse_dt:.2f}\")\n"
   ]
  },
  {
   "cell_type": "markdown",
   "id": "6ad4d0ec-72d5-4581-804d-fc1efe72ae0f",
   "metadata": {},
   "source": [
    "#### KNN:\n",
    "Predicts the target based on the average of the k-nearest neighbors in the feature space. Non-parametric and easy to implement, suitable for understanding local patterns in salary data.\n",
    "#### Advantages:\n",
    "\n",
    "Simple and intuitive. Non-parametric, making no assumptions about data distribution.\n",
    "\n",
    "#### Disadvantages:\n",
    "\n",
    "Computationally expensive for large datasets. Sensitive to the choice of k and feature scaling"
   ]
  },
  {
   "cell_type": "code",
   "execution_count": 39,
   "id": "add7c4e4-1d17-4536-a9b0-a7302275e965",
   "metadata": {},
   "outputs": [
    {
     "name": "stdout",
     "output_type": "stream",
     "text": [
      "K-Neighbors Regressor - R2 Score: 0.80, MSE: 69735618.09\n"
     ]
    }
   ],
   "source": [
    "from sklearn.neighbors import KNeighborsRegressor\n",
    "\n",
    "# Train the model\n",
    "knn_model = KNeighborsRegressor()\n",
    "knn_model.fit(X_train_scaled, y_train.values.ravel())\n",
    "\n",
    "# Make predictions\n",
    "y_pred_knn = knn_model.predict(X_test_scaled)\n",
    "\n",
    "# Evaluate the model\n",
    "r2_knn = r2_score(y_test, y_pred_knn)\n",
    "mse_knn = mean_squared_error(y_test, y_pred_knn)\n",
    "print(f\"K-Neighbors Regressor - R2 Score: {r2_knn:.2f}, MSE: {mse_knn:.2f}\")\n",
    "  "
   ]
  },
  {
   "cell_type": "markdown",
   "id": "c5b08d89-8c12-4d72-9ed8-fc5749038cbf",
   "metadata": {},
   "source": [
    "#### XGBoost Regressor:\n",
    "\n",
    "An optimized gradient boosting framework designed for high performance and efficiency. Offers state-of-the-art performance for complex regression tasks like salary prediction.\n",
    "#### Advantages :\n",
    "\n",
    "High accuracy and efficiency. Robust to overfitting with proper tuning.\n",
    "#### Disadvantages:\n",
    "\n",
    "Requires careful parameter tuning. Computationally intensive."
   ]
  },
  {
   "cell_type": "code",
   "execution_count": 40,
   "id": "26c0a3b3-adbf-4901-807f-7d19339faebe",
   "metadata": {},
   "outputs": [
    {
     "name": "stderr",
     "output_type": "stream",
     "text": [
      "C:\\Users\\miral.MIRAL-K\\anaconda3\\Lib\\site-packages\\xgboost\\sklearn.py:793: UserWarning: `eval_metric` in `fit` method is deprecated for better compatibility with scikit-learn, use `eval_metric` in constructor or`set_params` instead.\n",
      "  warnings.warn(\n"
     ]
    },
    {
     "data": {
      "text/html": [
       "<style>#sk-container-id-1 {color: black;background-color: white;}#sk-container-id-1 pre{padding: 0;}#sk-container-id-1 div.sk-toggleable {background-color: white;}#sk-container-id-1 label.sk-toggleable__label {cursor: pointer;display: block;width: 100%;margin-bottom: 0;padding: 0.3em;box-sizing: border-box;text-align: center;}#sk-container-id-1 label.sk-toggleable__label-arrow:before {content: \"▸\";float: left;margin-right: 0.25em;color: #696969;}#sk-container-id-1 label.sk-toggleable__label-arrow:hover:before {color: black;}#sk-container-id-1 div.sk-estimator:hover label.sk-toggleable__label-arrow:before {color: black;}#sk-container-id-1 div.sk-toggleable__content {max-height: 0;max-width: 0;overflow: hidden;text-align: left;background-color: #f0f8ff;}#sk-container-id-1 div.sk-toggleable__content pre {margin: 0.2em;color: black;border-radius: 0.25em;background-color: #f0f8ff;}#sk-container-id-1 input.sk-toggleable__control:checked~div.sk-toggleable__content {max-height: 200px;max-width: 100%;overflow: auto;}#sk-container-id-1 input.sk-toggleable__control:checked~label.sk-toggleable__label-arrow:before {content: \"▾\";}#sk-container-id-1 div.sk-estimator input.sk-toggleable__control:checked~label.sk-toggleable__label {background-color: #d4ebff;}#sk-container-id-1 div.sk-label input.sk-toggleable__control:checked~label.sk-toggleable__label {background-color: #d4ebff;}#sk-container-id-1 input.sk-hidden--visually {border: 0;clip: rect(1px 1px 1px 1px);clip: rect(1px, 1px, 1px, 1px);height: 1px;margin: -1px;overflow: hidden;padding: 0;position: absolute;width: 1px;}#sk-container-id-1 div.sk-estimator {font-family: monospace;background-color: #f0f8ff;border: 1px dotted black;border-radius: 0.25em;box-sizing: border-box;margin-bottom: 0.5em;}#sk-container-id-1 div.sk-estimator:hover {background-color: #d4ebff;}#sk-container-id-1 div.sk-parallel-item::after {content: \"\";width: 100%;border-bottom: 1px solid gray;flex-grow: 1;}#sk-container-id-1 div.sk-label:hover label.sk-toggleable__label {background-color: #d4ebff;}#sk-container-id-1 div.sk-serial::before {content: \"\";position: absolute;border-left: 1px solid gray;box-sizing: border-box;top: 0;bottom: 0;left: 50%;z-index: 0;}#sk-container-id-1 div.sk-serial {display: flex;flex-direction: column;align-items: center;background-color: white;padding-right: 0.2em;padding-left: 0.2em;position: relative;}#sk-container-id-1 div.sk-item {position: relative;z-index: 1;}#sk-container-id-1 div.sk-parallel {display: flex;align-items: stretch;justify-content: center;background-color: white;position: relative;}#sk-container-id-1 div.sk-item::before, #sk-container-id-1 div.sk-parallel-item::before {content: \"\";position: absolute;border-left: 1px solid gray;box-sizing: border-box;top: 0;bottom: 0;left: 50%;z-index: -1;}#sk-container-id-1 div.sk-parallel-item {display: flex;flex-direction: column;z-index: 1;position: relative;background-color: white;}#sk-container-id-1 div.sk-parallel-item:first-child::after {align-self: flex-end;width: 50%;}#sk-container-id-1 div.sk-parallel-item:last-child::after {align-self: flex-start;width: 50%;}#sk-container-id-1 div.sk-parallel-item:only-child::after {width: 0;}#sk-container-id-1 div.sk-dashed-wrapped {border: 1px dashed gray;margin: 0 0.4em 0.5em 0.4em;box-sizing: border-box;padding-bottom: 0.4em;background-color: white;}#sk-container-id-1 div.sk-label label {font-family: monospace;font-weight: bold;display: inline-block;line-height: 1.2em;}#sk-container-id-1 div.sk-label-container {text-align: center;}#sk-container-id-1 div.sk-container {/* jupyter's `normalize.less` sets `[hidden] { display: none; }` but bootstrap.min.css set `[hidden] { display: none !important; }` so we also need the `!important` here to be able to override the default hidden behavior on the sphinx rendered scikit-learn.org. See: https://github.com/scikit-learn/scikit-learn/issues/21755 */display: inline-block !important;position: relative;}#sk-container-id-1 div.sk-text-repr-fallback {display: none;}</style><div id=\"sk-container-id-1\" class=\"sk-top-container\"><div class=\"sk-text-repr-fallback\"><pre>XGBRegressor(base_score=0.5, booster=&#x27;gbtree&#x27;, callbacks=None,\n",
       "             colsample_bylevel=1, colsample_bynode=1, colsample_bytree=0.8,\n",
       "             early_stopping_rounds=None, enable_categorical=False, eta=0.1,\n",
       "             eval_metric=None, gamma=0, gpu_id=-1, grow_policy=&#x27;depthwise&#x27;,\n",
       "             importance_type=None, interaction_constraints=&#x27;&#x27;,\n",
       "             learning_rate=0.100000001, max_bin=256, max_cat_to_onehot=4,\n",
       "             max_delta_step=0, max_depth=10, max_leaves=0, min_child_weight=0.5,\n",
       "             missing=nan, monotone_constraints=&#x27;()&#x27;, n_estimators=1000,\n",
       "             n_jobs=0, num_parallel_tree=1, predictor=&#x27;auto&#x27;, random_state=42,\n",
       "             reg_alpha=0, ...)</pre><b>In a Jupyter environment, please rerun this cell to show the HTML representation or trust the notebook. <br />On GitHub, the HTML representation is unable to render, please try loading this page with nbviewer.org.</b></div><div class=\"sk-container\" hidden><div class=\"sk-item\"><div class=\"sk-estimator sk-toggleable\"><input class=\"sk-toggleable__control sk-hidden--visually\" id=\"sk-estimator-id-1\" type=\"checkbox\" checked><label for=\"sk-estimator-id-1\" class=\"sk-toggleable__label sk-toggleable__label-arrow\">XGBRegressor</label><div class=\"sk-toggleable__content\"><pre>XGBRegressor(base_score=0.5, booster=&#x27;gbtree&#x27;, callbacks=None,\n",
       "             colsample_bylevel=1, colsample_bynode=1, colsample_bytree=0.8,\n",
       "             early_stopping_rounds=None, enable_categorical=False, eta=0.1,\n",
       "             eval_metric=None, gamma=0, gpu_id=-1, grow_policy=&#x27;depthwise&#x27;,\n",
       "             importance_type=None, interaction_constraints=&#x27;&#x27;,\n",
       "             learning_rate=0.100000001, max_bin=256, max_cat_to_onehot=4,\n",
       "             max_delta_step=0, max_depth=10, max_leaves=0, min_child_weight=0.5,\n",
       "             missing=nan, monotone_constraints=&#x27;()&#x27;, n_estimators=1000,\n",
       "             n_jobs=0, num_parallel_tree=1, predictor=&#x27;auto&#x27;, random_state=42,\n",
       "             reg_alpha=0, ...)</pre></div></div></div></div></div>"
      ],
      "text/plain": [
       "XGBRegressor(base_score=0.5, booster='gbtree', callbacks=None,\n",
       "             colsample_bylevel=1, colsample_bynode=1, colsample_bytree=0.8,\n",
       "             early_stopping_rounds=None, enable_categorical=False, eta=0.1,\n",
       "             eval_metric=None, gamma=0, gpu_id=-1, grow_policy='depthwise',\n",
       "             importance_type=None, interaction_constraints='',\n",
       "             learning_rate=0.100000001, max_bin=256, max_cat_to_onehot=4,\n",
       "             max_delta_step=0, max_depth=10, max_leaves=0, min_child_weight=0.5,\n",
       "             missing=nan, monotone_constraints='()', n_estimators=1000,\n",
       "             n_jobs=0, num_parallel_tree=1, predictor='auto', random_state=42,\n",
       "             reg_alpha=0, ...)"
      ]
     },
     "execution_count": 40,
     "metadata": {},
     "output_type": "execute_result"
    }
   ],
   "source": [
    "xgb_model = XGBRegressor(max_depth=10,\n",
    "    n_estimators=1000,\n",
    "    min_child_weight=0.5, \n",
    "    colsample_bytree=0.8, \n",
    "    subsample=0.8, \n",
    "    eta=0.1,\n",
    "    seed=42)\n",
    "xgb_model.fit(X_train,y_train,eval_metric=\"rmse\",verbose=True)"
   ]
  },
  {
   "cell_type": "code",
   "execution_count": 41,
   "id": "adc89ea6-1a69-4a84-be3c-ede1bc4c9a72",
   "metadata": {},
   "outputs": [],
   "source": [
    "y_predict_train = xgb_model.predict(X_train)\n",
    "predict_xgb = xgb_model.predict(X_test)"
   ]
  },
  {
   "cell_type": "code",
   "execution_count": 42,
   "id": "0553b1f9-cc80-4114-9289-5f67ca36dcb3",
   "metadata": {},
   "outputs": [
    {
     "name": "stdout",
     "output_type": "stream",
     "text": [
      "17515678.11289722\n",
      "0.9497592297938641\n"
     ]
    }
   ],
   "source": [
    "print(mean_squared_error(y_test, predict_xgb))\n",
    "print(r2_score(y_test, predict_xgb))"
   ]
  },
  {
   "cell_type": "markdown",
   "id": "bb8574ad-09c8-44c0-a2e3-df67ed073044",
   "metadata": {},
   "source": [
    "### Hyper Parameter Tuning"
   ]
  },
  {
   "cell_type": "code",
   "execution_count": 43,
   "id": "f3bf30d6-80f3-4302-8e63-ff68e83e2a33",
   "metadata": {},
   "outputs": [
    {
     "name": "stdout",
     "output_type": "stream",
     "text": [
      "Fitting 3 folds for each of 12 candidates, totalling 36 fits\n"
     ]
    },
    {
     "name": "stderr",
     "output_type": "stream",
     "text": [
      "C:\\Users\\miral.MIRAL-K\\anaconda3\\Lib\\site-packages\\sklearn\\model_selection\\_search.py:909: DataConversionWarning: A column-vector y was passed when a 1d array was expected. Please change the shape of y to (n_samples,), for example using ravel().\n",
      "  self.best_estimator_.fit(X, y, **fit_params)\n"
     ]
    },
    {
     "name": "stdout",
     "output_type": "stream",
     "text": [
      "Best Random Forest - R2 Score: 0.95, MSE: 18898047.52\n",
      "Best Parameters: {'max_depth': 20, 'n_estimators': 300}\n"
     ]
    }
   ],
   "source": [
    "from sklearn.model_selection import GridSearchCV\n",
    "\n",
    "# Hyperparameter grid for RandomForestRegressor\n",
    "param_grid = {\n",
    "    'n_estimators': [100, 200, 300],\n",
    "    'max_depth': [None, 10, 20, 30]\n",
    "}\n",
    "\n",
    "rf = RandomForestRegressor()\n",
    "grid_search = GridSearchCV(estimator=rf, param_grid=param_grid, cv=3, n_jobs=-1, verbose=2)\n",
    "grid_search.fit(X_train, y_train)\n",
    "\n",
    "best_rf = grid_search.best_estimator_\n",
    "y_pred_best_rf = best_rf.predict(X_test)\n",
    "r2_best_rf = r2_score(y_test, y_pred_best_rf)\n",
    "mse_best_rf = mean_squared_error(y_test, y_pred_best_rf)\n",
    "print(f\"Best Random Forest - R2 Score: {r2_best_rf:.2f}, MSE: {mse_best_rf:.2f}\")\n",
    "\n",
    "print(f\"Best Parameters: {grid_search.best_params_}\")\n"
   ]
  },
  {
   "cell_type": "markdown",
   "id": "e376a99c-8fcf-4c44-b1b2-46cb7008ad24",
   "metadata": {},
   "source": [
    "#### By hyper parameter tuning , we get an improved model performance with the best parameters to fit in the model such as the optimum number of estimators or depth."
   ]
  },
  {
   "cell_type": "markdown",
   "id": "5fb7b4ec-59c4-429d-8eab-eecb15289a45",
   "metadata": {},
   "source": [
    "## CONCLUSION \n",
    "*\n",
    "Texas salary dataset shows different class and status of employees and their annual salary which depends on a variety of factors.\n",
    "By doing EDA we get a lot of insights on the distribution of columns, their importance in predicting the salary.\n",
    "* \n",
    "After cleaning and preprocessing we move to model training and predicting. Here According to the problem statement and dataset, we choose 5 ML algorithms which fits the use case. \n",
    "    * KNN\n",
    "    * Random Forest\n",
    "    * XGB\n",
    "    * Linear Regression\n",
    "    * Decision Tree\n",
    "* We trained these models in our processed cleaned data and got satisfactory mse values and r2 score. Out of these 5 random forest and          XGBoost give the best performance. \n",
    "* Due to the ease with which RandomForest handles non-linear relationships & also reduces overfitting through ensemble learning,we              suggest to go further with this algorithm for deployment. It gives us almost *95%* accuracy while predicting salaries.\n",
    "    \n"
   ]
  },
  {
   "cell_type": "code",
   "execution_count": null,
   "id": "1c5a20ba-da42-4f10-a368-dbdce449de7c",
   "metadata": {},
   "outputs": [],
   "source": []
  }
 ],
 "metadata": {
  "kernelspec": {
   "display_name": "Python 3 (ipykernel)",
   "language": "python",
   "name": "python3"
  },
  "language_info": {
   "codemirror_mode": {
    "name": "ipython",
    "version": 3
   },
   "file_extension": ".py",
   "mimetype": "text/x-python",
   "name": "python",
   "nbconvert_exporter": "python",
   "pygments_lexer": "ipython3",
   "version": "3.11.7"
  }
 },
 "nbformat": 4,
 "nbformat_minor": 5
}
